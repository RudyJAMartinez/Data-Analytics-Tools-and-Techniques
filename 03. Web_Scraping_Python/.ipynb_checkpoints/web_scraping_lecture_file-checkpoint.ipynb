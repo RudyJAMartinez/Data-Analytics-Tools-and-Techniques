{
 "cells": [
  {
   "cell_type": "code",
   "execution_count": 1,
   "metadata": {},
   "outputs": [],
   "source": [
    "import requests\n",
    "from bs4 import BeautifulSoup"
   ]
  },
  {
   "cell_type": "code",
   "execution_count": 2,
   "metadata": {},
   "outputs": [],
   "source": [
    "# go to the billboard 2019 hit pop songs page - copy the URL into the code\n",
    "\n",
    "url = \"https://www.billboard.com/charts/year-end/2019/pop-songs\"\n",
    "response = requests.get(url)"
   ]
  },
  {
   "cell_type": "code",
   "execution_count": 3,
   "metadata": {},
   "outputs": [
    {
     "name": "stdout",
     "output_type": "stream",
     "text": [
      "<Response [200]>\n"
     ]
    }
   ],
   "source": [
    "#Let's be sure we got back a good response\n",
    "page = requests.get(url)\n",
    "print(page)"
   ]
  },
  {
   "cell_type": "code",
   "execution_count": 4,
   "metadata": {},
   "outputs": [],
   "source": [
    "# creates a parse tree that can be used to extract data from HTML\n",
    "page_content = BeautifulSoup(response.text, 'html.parser') "
   ]
  },
  {
   "cell_type": "code",
   "execution_count": 5,
   "metadata": {},
   "outputs": [
    {
     "data": {
      "text/plain": [
       "\"\\n\\n\\n\\n\\n\\nPop Songs - Year-End | Billboard\\n\\n\\n\\n\\n\\n\\n\\n\\n\\n\\n\\n\\n\\n\\n\\n\\n\\n\\n\\n\\n\\n\\n\\n\\n\\n\\n\\n\\n\\n\\n\\n\\n\\n\\n\\n\\n\\n\\n\\n\\n\\n\\n\\n\\n\\n\\n\\n\\n\\n\\n\\n\\n\\n\\n\\n\\n\\n\\n\\n\\n\\n\\n\\n\\n\\nBillboard\\n\\n\\n\\n\\n\\n\\nSubscribe\\n\\n\\nSign in\\n\\n\\n\\n\\nUpgrade\\n\\n\\n\\n\\n\\n\\n\\nSubscribe\\nSign in\\n\\n\\nMy Account\\nSign out\\n\\n\\n\\n\\n\\n\\n\\n\\n\\n\\n\\nCharts\\n\\n\\n\\n WEEKLY \\n\\n\\n\\nHot 100\\n\\n\\nBillboard 200\\n\\n\\nBillboard Global 200\\n\\n\\nBillboard Global Excl. US\\n\\n\\nArtist 100\\n\\n\\nAll Weekly Charts\\n\\n\\n\\n\\n YEAR-END \\n\\n\\n\\nYear-End Hot 100 Songs\\n\\n\\nYear-End Billboard 200 Albums\\n\\n\\n2020 Year-End Boxscore\\n\\n\\nGoogle's Top Hummed Songs 2020\\n\\n\\nAll Year-End Charts\\n\\n\\n\\n\\n DECADE-END \\n\\n\\n\\nDecade-End Top Artists\\n\\n\\nDecade-End Top Artists - Interactive\\n\\n\\nDecade-End Hot 100 Songs\\n\\n\\nDecade-End Billboard 200 Albums\\n\\n\\nAll Decade-End Charts\\n\\n\\n\\n\\n BANDSINTOWN X BILLBOARD \\n\\n\\n\\nBuzzing Livestream Artists\\n\\n\\nRising Livestream Artists\\n\\n\\nTop Livestream Artists\\n\\n\\n\\n\\n\\n\\nNews\\n\\n\\n\\n GENRES \\n\\n\\n\\nPop\\n\\n\\nHip-Hop/R&B\\n\\n\\nDance\\n\\n\\nCountry\\n\\n\\nLatin\\n\\n\\nRock\\n\\n\\nK-Pop\\n\\n\\n\\n\\n TOPICS \\n\\n\\n\\nYear In Music 2019\\n\\n\\nPride\\n\\n\\nPodcasts\\n\\n\\nInternational\\n\\n\\nAll News\\n\\n\\n\\n\\n\\n\\nVideo\\n\\n\\n\\n VIDEO SERIES \\n\\n\\n\\nBillboard News\\n\\n\\nLive Videos\\n\\n\\nQuizzed\\n\\n\\nHow It Went Down\\n\\n\\nEmerging Artists: You Should Know\\n\\n\\nMy Billboard Moment\\n\\n\\nAll Videos\\n\\n\\n\\n\\n\\n\\nPhotos\\n\\n\\n\\nPro\\n\\n\\n\\n INDUSTRY NEWS \\n\\n\\n\\nLegal and Management\\n\\n\\nExecutive Turntable\\n\\n\\nTouring\\n\\n\\nRecord Labels\\n\\n\\nStreaming\\n\\n\\nTech\\n\\n\\nPublishing\\n\\n\\nRadio\\n\\n\\nAll Industry News\\n\\n\\n\\n\\n PRO TOOLS \\n\\n\\n\\nInsights\\n\\n\\nDeep Dive\\n\\n\\n- Songs For Sale\\n\\n\\n- Music On TV: What Works Now\\n\\n\\nClose Calls\\n\\n\\nChart Search\\n\\n\\nBoxscore\\n\\n\\nBillboard Bulletin\\n\\n\\nArtist index\\n\\n\\nSong Index\\n\\n\\n\\n\\n PRO CHARTS \\n\\n\\n\\nPop Songs\\n\\n\\nHot R&B / Hip-Hop Songs\\n\\n\\nHot Country Songs\\n\\n\\nSongwriters & Producers\\n\\n\\nView All Pro Charts\\n\\n\\n\\n\\n\\n\\nNewsletters\\n\\n\\n\\n\\n\\n\\n\\n\\n\\n\\n\\n\\n\\n\\nSubscribe\\n\\n\\nSign in\\n\\n\\n\\n\\nView Profile\\n\\n\\nUpgrade\\n\\n\\n\\n\\nFollow Billboard\\n\\n\\n\\n\\n\\n\\n\\n\\n\\nAbout Billboard\\n\\nTerms of Use\\nPrivacy Policy\\nAdChoices\\nAdvertising\\nCalifornia Privacy Rights\\nDo Not Sell My Personal Information\\n\\n\\n© 2019 Billboard Media, LLC. All Rights Reserved.\\nBillboard is a subsidiary of Valence Media, LLC.\\n\\n\\n\\n\\n\\n\\n\\n\\n\\n\\n\\n\\n\\n\\nWomen In Music Events Hot 100 Billboard 200 Global 200 Chart Beat Honda Stage \\n\\nEvents Hot 100 Billboard 200 Chart Search Chart Beat Honda Stage \\n\\n\\n\\n\\n\\n\\n\\n\\n\\n\\n\\n All Charts\\n\\n\\n\\n\\n\\nYEAR-END CHARTS\\n\\nPOP SONGS\\n\\n\\n\\n\\n\\n\\n\\n\\n\\n\\n\\n\\n\\n\\n\\n\\n\\n\\n\\n\\n\\n\\n\\n\\n\\n2019 \\n\\n\\n\\n2020\\n2019\\n2018\\n2017\\n2016\\n2015\\n2014\\n2013\\n2012\\n2011\\n2010\\n2009\\n2008\\n\\n\\n\\n\\n\\n\\n\\nSee More Year-End Charts\\n\\n\\n\\n\\n\\n\\n\\n1\\n\\n\\n\\n\\n\\n\\nWithout Me\\n\\n\\n\\nHalsey\\n\\n\\n\\n\\n\\n\\n\\n\\n\\n\\n\\n\\n\\n\\nAlso appears on these Year End Charts\\n\\n\\n\\n\\n\\n\\n\\n\\n\\n2\\n\\n\\n\\n\\n\\n\\nSucker\\n\\n\\n\\nJonas Brothers\\n\\n\\n\\n\\n\\n\\n\\n\\n\\n\\n\\n\\n\\n\\nAlso appears on these Year End Charts\\n\\n\\n\\n\\n\\n\\n\\n\\n\\n3\\n\\n\\n\\n\\n\\n\\nEastside\\n\\n\\nbenny blanco, Halsey & Khalid\\n\\n\\n\\n\\n\\n\\n\\n\\n\\n\\n\\n\\n\\nAlso appears on these Year End Charts\\n\\n\\n\\n\\n\\n\\n\\n\\n\\n\\n4\\n\\n\\n\\n\\n\\n\\nI Don't Care\\n\\n\\nEd Sheeran & Justin Bieber\\n\\n\\n\\n\\n\\n\\n\\n\\n\\n\\n\\n\\n\\nAlso appears on these Year End Charts\\n\\n\\n\\n\\n\\n\\n\\n\\n\\n5\\n\\n\\n\\n\\n\\n\\nDancing With A Stranger\\n\\n\\nSam Smith & Normani\\n\\n\\n\\n\\n\\n\\n\\n\\n\\n\\n\\n\\n\\nAlso appears on these Year End Charts\\n\\n\\n\\n\\n\\n\\n\\n\\n\\n6\\n\\n\\n\\n\\n\\n\\nTalk\\n\\n\\n\\nKhalid\\n\\n\\n\\n\\n\\n\\n\\n\\n\\n\\n\\n\\n\\n\\nAlso appears on these Year End Charts\\n\\n\\n\\n\\n\\n\\n\\n\\n\\n7\\n\\n\\n\\n\\n\\n\\nHigh Hopes\\n\\n\\n\\nPanic! At The Disco\\n\\n\\n\\n\\n\\n\\n\\n\\n\\n\\n\\n\\n\\n\\nAlso appears on these Year End Charts\\n\\n\\n\\n\\n\\n\\n\\n\\n\\n8\\n\\n\\n\\n\\n\\n\\nBad Guy\\n\\n\\n\\nBillie Eilish\\n\\n\\n\\n\\n\\n\\n\\n\\n\\n\\n\\n\\n\\n\\nAlso appears on these Year End Charts\\n\\n\\n\\n\\n\\n\\n\\n\\n\\n9\\n\\n\\n\\n\\n\\n\\nWow.\\n\\n\\n\\nPost Malone\\n\\n\\n\\n\\n\\n\\n\\n\\n\\n\\n\\n\\n\\n\\nAlso appears on these Year End Charts\\n\\n\\n\\n\\n\\n\\n\\n\\n\\n10\\n\\n\\n\\n\\n\\n\\nTruth Hurts\\n\\n\\n\\nLizzo\\n\\n\\n\\n\\n\\n\\n\\n\\n\\n\\n\\n\\n\\n\\nAlso appears on these Year End Charts\\n\\n\\n\\n\\n\\n\\n\\n\\n\\n\\n\\nMORE YEAR-END CHARTS VIEW ALL\\n\\n\\n\\n\\n\\n\\n\\n\\nTOP ARTISTS\\n\\n\\n\\n\\n\\n\\n\\n\\n\\n\\n\\n\\nHOT 100 SONGS\\n\\n\\n\\n\\n\\n\\n\\n\\n\\n\\n\\n\\nTOP BILLBOARD 200 ARTISTS\\n\\n\\n\\n\\n\\n\\n\\n\\n\\n\\n\\n\\nTOP RADIO SONGS\\n\\n\\n\\n\\n\\n\\n\\n\\n\\n\\n\\n11\\n\\n\\n\\n\\n\\n\\nSenorita\\n\\n\\nShawn Mendes & Camila Cabello\\n\\n\\n\\n\\n\\n\\n\\n\\n\\n\\n\\n\\n\\nAlso appears on these Year End Charts\\n\\n\\n\\n\\n\\n\\n\\n\\n\\n12\\n\\n\\n\\n\\n\\n\\n7 Rings\\n\\n\\n\\nAriana Grande\\n\\n\\n\\n\\n\\n\\n\\n\\n\\n\\n\\n\\n\\n\\nAlso appears on these Year End Charts\\n\\n\\n\\n\\n\\n\\n\\n\\n\\n13\\n\\n\\n\\n\\n\\n\\nThank U, Next\\n\\n\\n\\nAriana Grande\\n\\n\\n\\n\\n\\n\\n\\n\\n\\n\\n\\n\\n\\n\\nAlso appears on these Year End Charts\\n\\n\\n\\n\\n\\n\\n\\n\\n\\n14\\n\\n\\n\\n\\n\\n\\nSunflower (Spider-Man: Into The Spider-Verse)\\n\\n\\n\\nPost Malone & Swae Lee\\n\\n\\n\\n\\n\\n\\n\\n\\n\\n\\n\\n\\n\\n\\nAlso appears on these Year End Charts\\n\\n\\n\\n\\n\\n\\n\\n\\n\\n15\\n\\n\\n\\n\\n\\n\\nSweet But Psycho\\n\\n\\n\\nAva Max\\n\\n\\n\\n\\n\\n\\n\\n\\n\\n\\n\\n\\n\\n\\nAlso appears on these Year End Charts\\n\\n\\n\\n\\n\\n\\n\\n\\n\\n16\\n\\n\\n\\n\\n\\n\\nHappier\\n\\n\\nMarshmello & Bastille\\n\\n\\n\\n\\n\\n\\n\\n\\n\\n\\n\\n\\n\\nAlso appears on these Year End Charts\\n\\n\\n\\n\\n\\n\\n\\n\\n\\n17\\n\\n\\n\\n\\n\\n\\nIf I Can't Have You\\n\\n\\n\\nShawn Mendes\\n\\n\\n\\n\\n\\n\\n\\n\\n\\n\\n\\n\\n\\n\\nAlso appears on these Year End Charts\\n\\n\\n\\n\\n\\n\\n\\n\\n\\n18\\n\\n\\n\\n\\n\\n\\nClose To Me\\n\\n\\nEllie Goulding X Diplo Featuring Swae Lee\\n\\n\\n\\n\\n\\n\\n\\n\\n\\n\\n\\n\\n\\nAlso appears on these Year End Charts\\n\\n\\n\\n\\n\\n\\n\\n\\n\\n19\\n\\n\\n\\n\\n\\n\\nSomeone You Loved\\n\\n\\n\\nLewis Capaldi\\n\\n\\n\\n\\n\\n\\n\\n\\n\\n\\n\\n\\n\\n\\nAlso appears on these Year End Charts\\n\\n\\n\\n\\n\\n\\n\\n\\n\\n20\\n\\n\\n\\n\\n\\n\\nBreak Up With Your Girlfriend, I'm Bored\\n\\n\\n\\nAriana Grande\\n\\n\\n\\n\\n\\n\\n\\n\\n\\n\\n\\n\\n\\n\\nAlso appears on these Year End Charts\\n\\n\\n\\n\\n\\n\\n\\n\\n\\n\\n\\n\\n\\n\\n\\n\\n\\n21\\n\\n\\n\\n\\n\\n\\nBetter\\n\\n\\n\\nKhalid\\n\\n\\n\\n\\n\\n\\n\\n\\n\\n\\n\\n\\n\\n\\nAlso appears on these Year End Charts\\n\\n\\n\\n\\n\\n\\n\\n\\n\\n22\\n\\n\\n\\n\\n\\n\\nOld Town Road\\n\\n\\nLil Nas X Featuring Billy Ray Cyrus\\n\\n\\n\\n\\n\\n\\n\\n\\n\\n\\n\\n\\n\\nAlso appears on these Year End Charts\\n\\n\\n\\n\\n\\n\\n\\n\\n\\n23\\n\\n\\n\\n\\n\\n\\nGoodbyes\\n\\n\\nPost Malone Featuring Young Thug\\n\\n\\n\\n\\n\\n\\n\\n\\n\\n\\n\\n\\n\\nAlso appears on these Year End Charts\\n\\n\\n\\n\\n\\n\\n\\n\\n\\n24\\n\\n\\n\\n\\n\\n\\nHey Look Ma, I Made It\\n\\n\\n\\nPanic! At The Disco\\n\\n\\n\\n\\n\\n\\n\\n\\n\\n\\n\\n\\n\\n\\nAlso appears on these Year End Charts\\n\\n\\n\\n\\n\\n\\n\\n\\n\\n25\\n\\n\\n\\n\\n\\n\\nBreathin\\n\\n\\n\\nAriana Grande\\n\\n\\n\\n\\n\\n\\n\\n\\n\\n\\n\\n\\n\\n\\nAlso appears on these Year End Charts\\n\\n\\n\\n\\n\\n\\n\\n\\n\\n26\\n\\n\\n\\n\\n\\n\\nBeautiful People\\n\\n\\n\\nEd Sheeran Featuring Khalid\\n\\n\\n\\n\\n\\n\\n\\n\\n\\n\\n\\n\\n\\n\\nAlso appears on these Year End Charts\\n\\n\\n\\n\\n\\n\\n\\n\\n\\n27\\n\\n\\n\\n\\n\\n\\nOnly Human\\n\\n\\n\\nJonas Brothers\\n\\n\\n\\n\\n\\n\\n\\n\\n\\n\\n\\n\\n\\n\\nAlso appears on these Year End Charts\\n\\n\\n\\n\\n\\n\\n\\n\\n\\n28\\n\\n\\n\\n\\n\\n\\nYoungblood\\n\\n\\n\\n5 Seconds Of Summer\\n\\n\\n\\n\\n\\n\\n\\n\\n\\n\\n\\n\\n\\n\\nAlso appears on these Year End Charts\\n\\n\\n\\n\\n\\n\\n\\n\\n\\n29\\n\\n\\n\\n\\n\\n\\nTrampoline\\n\\n\\nSHAED\\n\\n\\n\\n\\n\\n\\n\\n\\n\\n\\n\\n\\n\\nAlso appears on these Year End Charts\\n\\n\\n\\n\\n\\n\\n\\n\\n\\n30\\n\\n\\n\\n\\n\\n\\nLove Lies\\n\\n\\nKhalid & Normani\\n\\n\\n\\n\\n\\n\\n\\n\\n\\n\\n\\n\\n\\nAlso appears on these Year End Charts\\n\\n\\n\\n\\n\\n\\n\\n\\n\\n\\n\\n\\n\\n31\\n\\n\\n\\n\\n\\n\\nBe Alright\\n\\n\\n\\nDean Lewis\\n\\n\\n\\n\\n\\n\\n\\n\\n\\n\\n\\n\\n\\n\\nAlso appears on these Year End Charts\\n\\n\\n\\n\\n\\n\\n\\n\\n\\n32\\n\\n\\n\\n\\n\\n\\nSicko Mode\\n\\n\\n\\nTravis Scott\\n\\n\\n\\n\\n\\n\\n\\n\\n\\n\\n\\n\\n\\n\\nAlso appears on these Year End Charts\\n\\n\\n\\n\\n\\n\\n\\n\\n\\n33\\n\\n\\n\\n\\n\\n\\nCircles\\n\\n\\n\\nPost Malone\\n\\n\\n\\n\\n\\n\\n\\n\\n\\n\\n\\n\\n\\n\\nAlso appears on these Year End Charts\\n\\n\\n\\n\\n\\n\\n\\n\\n\\n34\\n\\n\\n\\n\\n\\n\\nYou Need To Calm Down\\n\\n\\n\\nTaylor Swift\\n\\n\\n\\n\\n\\n\\n\\n\\n\\n\\n\\n\\n\\n\\nAlso appears on these Year End Charts\\n\\n\\n\\n\\n\\n\\n\\n\\n\\n35\\n\\n\\n\\n\\n\\n\\nEasier\\n\\n\\n\\n5 Seconds Of Summer\\n\\n\\n\\n\\n\\n\\n\\n\\n\\n\\n\\n\\n\\n\\nAlso appears on these Year End Charts\\n\\n\\n\\n\\n\\n\\n\\n\\n\\n36\\n\\n\\n\\n\\n\\n\\nBeautiful\\n\\n\\nBazzi Featuring Camila Cabello\\n\\n\\n\\n\\n\\n\\n\\n\\n\\n\\n\\n\\n\\nAlso appears on these Year End Charts\\n\\n\\n\\n\\n\\n\\n\\n\\n\\n37\\n\\n\\n\\n\\n\\n\\nHow Do You Sleep?\\n\\n\\n\\nSam Smith\\n\\n\\n\\n\\n\\n\\n\\n\\n\\n\\n\\n\\n\\n\\nAlso appears on these Year End Charts\\n\\n\\n\\n\\n\\n\\n\\n\\n\\n38\\n\\n\\n\\n\\n\\n\\nWho Do You Love\\n\\n\\nThe Chainsmokers Featuring 5 Seconds Of Summer\\n\\n\\n\\n\\n\\n\\n\\n\\n\\n\\n\\n\\n\\nAlso appears on these Year End Charts\\n\\n\\n\\n\\n\\n\\n\\n\\n\\n39\\n\\n\\n\\n\\n\\n\\nCool\\n\\n\\n\\nJonas Brothers\\n\\n\\n\\n\\n\\n\\n\\n\\n\\n\\n\\n\\n\\n\\nAlso appears on these Year End Charts\\n\\n\\n\\n\\n\\n\\n\\n\\n\\n40\\n\\n\\n\\n\\n\\n\\nBetter Now\\n\\n\\n\\nPost Malone\\n\\n\\n\\n\\n\\n\\n\\n\\n\\n\\n\\n\\n\\n\\nAlso appears on these Year End Charts\\n\\n\\n\\n\\n\\n\\n\\n\\n\\n\\n\\n\\n\\n\\n\\n\\n\\n41\\n\\n\\n\\n\\n\\n\\nME!\\n\\n\\nTaylor Swift Featuring Brendon Urie\\n\\n\\n\\n\\n\\n\\n\\n\\n\\n\\n\\n\\n\\nAlso appears on these Year End Charts\\n\\n\\n\\n\\n\\n\\n\\n\\n\\n42\\n\\n\\n\\n\\n\\n\\nGirls Like You\\n\\n\\nMaroon 5 Featuring Cardi B\\n\\n\\n\\n\\n\\n\\n\\n\\n\\n\\n\\n\\n\\nAlso appears on these Year End Charts\\n\\n\\n\\n\\n\\n\\n\\n\\n\\n43\\n\\n\\n\\n\\n\\n\\nThis Feeling\\n\\n\\nThe Chainsmokers Featuring Kelsea Ballerini\\n\\n\\n\\n\\n\\n\\n\\n\\n\\n\\n\\n\\n\\nAlso appears on these Year End Charts\\n\\n\\n\\n\\n\\n\\n\\n\\n\\n44\\n\\n\\n\\n\\n\\n\\nBoyfriend\\n\\n\\nAriana Grande & Social House\\n\\n\\n\\n\\n\\n\\n\\n\\n\\n\\n\\n\\n\\nAlso appears on these Year End Charts\\n\\n\\n\\n\\n\\n\\n\\n\\n\\n45\\n\\n\\n\\n\\n\\n\\nTime\\n\\n\\n\\nNF\\n\\n\\n\\n\\n\\n\\n\\n\\n\\n\\n\\n\\n\\n\\nAlso appears on these Year End Charts\\n\\n\\n\\n\\n\\n\\n\\n\\n\\n46\\n\\n\\n\\n\\n\\n\\nNever Really Over\\n\\n\\n\\nKaty Perry\\n\\n\\n\\n\\n\\n\\n\\n\\n\\n\\n\\n\\n\\n\\nAlso appears on these Year End Charts\\n\\n\\n\\n\\n\\n\\n\\n\\n\\n47\\n\\n\\n\\n\\n\\n\\nWhen The Party's Over\\n\\n\\n\\nBillie Eilish\\n\\n\\n\\n\\n\\n\\n\\n\\n\\n\\n\\n\\n\\n\\nAlso appears on these Year End Charts\\n\\n\\n\\n\\n\\n\\n\\n\\n\\n48\\n\\n\\n\\n\\n\\n\\nSpeechless\\n\\n\\n\\nDan + Shay\\n\\n\\n\\n\\n\\n\\n\\n\\n\\n\\n\\n\\n\\n\\nAlso appears on these Year End Charts\\n\\n\\n\\n\\n\\n\\n\\n\\n\\n49\\n\\n\\n\\n\\n\\n\\nTaki Taki\\n\\n\\nDJ Snake Featuring Selena Gomez, Ozuna & Cardi B\\n\\n\\n\\n\\n\\n\\n\\n\\n\\n\\n\\n\\n\\nAlso appears on these Year End Charts\\n\\n\\n\\n\\n\\n\\n\\n\\n\\n50\\n\\n\\n\\n\\n\\n\\nGood As Hell\\n\\n\\n\\nLizzo\\n\\n\\n\\n\\n\\n\\n\\n\\n\\n\\n\\n\\n\\n\\nAlso appears on these Year End Charts\\n\\n\\n\\n\\n\\n\\n\\n\\n\\n\\n\\n\\n\\n\\n\\n\\n\\n\\n\\n\\n\\n\\n\\n\\n\\n\\n\\n\\n\\n\\n\\n\\n\\nMagazine\\n\\nCustomer Service\\nSubscribe\\nBuy this issue\\n\\n\\n\\nSharing Billboard\\n\\n\\nFacebook \\n\\nTwitter \\n\\nYouTube \\n\\nInstagram \\n\\nTumblr \\n\\nPinterest \\n\\nSpotify \\n\\nNewsletter \\n\\n\\n\\nExplore Billboard\\n\\n\\nShop \\n\\nMagazine Archive \\n\\n\\n\\nInformation\\n\\n\\nJobs \\n\\nBillboard Events \\n\\nContact Us \\n\\nSitemap \\n\\nFAQ \\n\\nFeedback \\n\\n\\n\\n\\nBillboard\\n\\n\\n\\n\\n\\n\\n\\n\\n© 2021 Billboard Media, LLC. All Rights Reserved.\\n\\nTerms of Use\\nPrivacy Policy\\nAdChoices\\nAdvertising\\nCalifornia Privacy Rights\\nDo Not Sell My Personal Information\\nEU Privacy Preferences\\n\\n\\n\\n\\nBILLBOARD is a registered trademark of Billboard IP Holdings, LLC\\n\\n\\n\\n\\n\\n\\n\\n\\n\\n\\n\\nTHE BILLBOARD BIZ\\nSUBSCRIBER EXPERIENCE\\n\\n\\n\\nThe Biz premium subscriber content has moved to Billboard.com/business.\\nTo simplify subscriber access, we have temporarily disabled the password requirement.\\n\\nCONTINUE TO BILLBOARD BIZ CONTENT\\n\\n\\n\\nDon't show again\\n\\n\\n\\n\\n\\n\\n\\n\\n\\n\\n\\n\\n\\n\\n\\n\\n\\n\\n\\n\\n\\n\\n\\n\\n\\n\\n\\n\\n\\n\""
      ]
     },
     "execution_count": 5,
     "metadata": {},
     "output_type": "execute_result"
    }
   ],
   "source": [
    "page_content.text"
   ]
  }
 ],
 "metadata": {
  "kernelspec": {
   "display_name": "Python 3",
   "language": "python",
   "name": "python3"
  },
  "language_info": {
   "codemirror_mode": {
    "name": "ipython",
    "version": 3
   },
   "file_extension": ".py",
   "mimetype": "text/x-python",
   "name": "python",
   "nbconvert_exporter": "python",
   "pygments_lexer": "ipython3",
   "version": "3.8.5"
  }
 },
 "nbformat": 4,
 "nbformat_minor": 4
}
