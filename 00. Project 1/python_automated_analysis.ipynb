{
 "cells": [
  {
   "cell_type": "markdown",
   "metadata": {},
   "source": [
    "### **Name:** Python Automated Financial Analysis\n",
    "### **University:** University of Texas at San Antonio\n",
    "### **Class:** DA6223 - Data Tools & Techniques\n",
    "### **Author:** Rudy Martinez\n",
    "### **Last Updated:** February 4, 2021"
   ]
  },
  {
   "cell_type": "markdown",
   "metadata": {},
   "source": [
    "<br>"
   ]
  },
  {
   "cell_type": "markdown",
   "metadata": {},
   "source": [
    "### **Project Steps**\n",
    "#### **1.** Scrape S&P 500 companies from Wikipedia and create a CSV file with the scraped company information\n",
    "#### **2.** Create a dataframe from the CSV and randomly select 1 security (ticker symbol)\n",
    "#### **3.** Scrape the Yahoo Finance site for financial statements, key statistics, and stock price history for the selected security \n",
    "#### **4.** Create a multi-layered stock screen to determine company's financial strength\n",
    "#### **5.** Scrape Yahoo News Articles for langauge associated with \"positive\" sentiment for the security\n",
    "#### **6.** Can financial strength and positive sentiment predict stock price?"
   ]
  },
  {
   "cell_type": "markdown",
   "metadata": {},
   "source": [
    "<br>"
   ]
  },
  {
   "cell_type": "markdown",
   "metadata": {},
   "source": [
    "#### **Python Packages and Modules**"
   ]
  },
  {
   "cell_type": "code",
   "execution_count": 5,
   "metadata": {},
   "outputs": [],
   "source": [
    "import random\n",
    "import re\n",
    "import json\n",
    "import csv\n",
    "from io import StringIO\n",
    "from bs4 import BeautifulSoup\n",
    "import requests\n",
    "import pandas as pd"
   ]
  },
  {
   "cell_type": "markdown",
   "metadata": {},
   "source": [
    "<br>"
   ]
  },
  {
   "cell_type": "markdown",
   "metadata": {},
   "source": [
    "#### **1. Scrape S&P 500 Companies from Wikipedia**"
   ]
  },
  {
   "cell_type": "code",
   "execution_count": 6,
   "metadata": {},
   "outputs": [],
   "source": [
    "#Acquires Wikipedia page content for S&P500 companies\n",
    "wiki_url = 'https://en.wikipedia.org/wiki/List_of_S%26P_500_companies'\n",
    "response_1 = requests.get(wiki_url)\n",
    "company_page_content = BeautifulSoup(response_1.text, 'html.parser')\n",
    "\n",
    "\n",
    "#Stores the table with company information into the company_table variable\n",
    "table_id = \"constituents\"\n",
    "company_table = company_page_content.find('table', attrs={'id': table_id})\n",
    "\n",
    "\n",
    "#Creates a dataframe with company information and writes to csv\n",
    "df = pd.read_html(str(company_table))\n",
    "df[0].to_csv('S&P500 Company Information.csv')"
   ]
  },
  {
   "cell_type": "markdown",
   "metadata": {},
   "source": [
    "<br>"
   ]
  },
  {
   "cell_type": "markdown",
   "metadata": {},
   "source": [
    "#### **2. Randomly Select 1 Company Ticker Symbol**"
   ]
  },
  {
   "cell_type": "code",
   "execution_count": 7,
   "metadata": {},
   "outputs": [
    {
     "data": {
      "text/plain": [
       "['FTV']"
      ]
     },
     "execution_count": 7,
     "metadata": {},
     "output_type": "execute_result"
    }
   ],
   "source": [
    "#Creates a new dataframe using the CSV that was generated\n",
    "csv_df = pd.read_csv('S&P500 Company Information.csv')\n",
    "\n",
    "\n",
    "#Creates a list of companies\n",
    "company_list = csv_df['Symbol'].to_list()\n",
    "\n",
    "\n",
    "#Randomly select 1 company from company_list\n",
    "random_company = random.sample(company_list,1)\n",
    "random_company"
   ]
  },
  {
   "cell_type": "markdown",
   "metadata": {},
   "source": [
    "<br>"
   ]
  },
  {
   "cell_type": "markdown",
   "metadata": {},
   "source": [
    "#### **3. Scrape Yahoo Finance for Financial Statements** "
   ]
  },
  {
   "cell_type": "code",
   "execution_count": 8,
   "metadata": {},
   "outputs": [],
   "source": [
    "#Establishes URLs for Key Statistics, Company Profile, and Financial Statements\n",
    "url_key_stats = 'https://finance.yahoo.com/quote/{}/key-statistics?p={}'\n",
    "url_financial_statements = 'https://finance.yahoo.com/quote/{}/financials?p={}'\n",
    "\n",
    "\n",
    "#Establishes the randomly selected stock variable as a string\n",
    "stock = ''.join(random_company)\n",
    "\n",
    "\n",
    "#Acquires company financials page content\n",
    "response_2 = requests.get(url_financial_statements.format(stock, stock))\n",
    "fin_content = BeautifulSoup(response_2.text, 'html.parser')\n",
    "\n",
    "\n",
    "#Creates a pattern using a regular expression to pinpoint where the financials are stored\n",
    "pattern = re.compile(r'\\s--\\sData\\s--\\s')\n",
    "script_data = fin_content.find('script', text = pattern).contents[0]\n",
    "\n",
    "\n",
    "#Finds the boundaries of the slice where the financials are stored\n",
    "start = script_data.find(\"context\")-2\n",
    "json_data = json.loads(script_data[start:-12])\n",
    "\n",
    "\n",
    "#Dictionary keys of financials to help create variables\n",
    "key_list = json_data['context']['dispatcher']['stores']['QuoteSummaryStore'].keys()\n",
    "\n",
    "\n",
    "#Creates financial statements variables\n",
    "annual_is = json_data['context']['dispatcher']['stores']['QuoteSummaryStore']['incomeStatementHistory']['incomeStatementHistory']\n",
    "annual_cf = json_data['context']['dispatcher']['stores']['QuoteSummaryStore']['cashflowStatementHistory']['cashflowStatements']\n",
    "annual_bs = json_data['context']['dispatcher']['stores']['QuoteSummaryStore']['balanceSheetHistory']['balanceSheetStatements']\n",
    "\n",
    "\n",
    "#Consolidates financial statement variables into lists\n",
    "annual_inc_statement = []\n",
    "annual_cf_statement = []\n",
    "annual_bs_statement = []\n",
    "\n",
    "\n",
    "#Income Statement\n",
    "for line in annual_is:\n",
    "    statement = {}\n",
    "    for key, val in line.items():\n",
    "        try:\n",
    "            statement[key] = val['raw']\n",
    "        except TypeError:\n",
    "            continue\n",
    "        except KeyError:\n",
    "            continue\n",
    "    annual_inc_statement.append(statement)\n",
    "\n",
    "    \n",
    "#Cash Flow Statement    \n",
    "for line in annual_cf:\n",
    "    statement = {}\n",
    "    for key, val in line.items():\n",
    "        try:\n",
    "            statement[key] = val['raw']\n",
    "        except TypeError:\n",
    "            continue\n",
    "        except KeyError:\n",
    "            continue\n",
    "    annual_cf_statement.append(statement)\n",
    "\n",
    "    \n",
    "#Balance Sheet\n",
    "for line in annual_bs:\n",
    "    statement = {}\n",
    "    for key, val in line.items():\n",
    "        try:\n",
    "            statement[key] = val['raw']\n",
    "        except TypeError:\n",
    "            continue\n",
    "        except KeyError:\n",
    "            continue\n",
    "    annual_bs_statement.append(statement)"
   ]
  },
  {
   "cell_type": "markdown",
   "metadata": {},
   "source": [
    "<br>"
   ]
  },
  {
   "cell_type": "markdown",
   "metadata": {},
   "source": [
    "#### **3. Scrape Yahoo Finance for Key Statistics** "
   ]
  },
  {
   "cell_type": "code",
   "execution_count": 45,
   "metadata": {},
   "outputs": [
    {
     "data": {
      "text/plain": [
       "dict_keys(['annualHoldingsTurnover', 'enterpriseToRevenue', 'beta3Year', 'profitMargins', 'enterpriseToEbitda', '52WeekChange', 'morningStarRiskRating', 'forwardEps', 'revenueQuarterlyGrowth', 'sharesOutstanding', 'fundInceptionDate', 'annualReportExpenseRatio', 'totalAssets', 'bookValue', 'sharesShort', 'sharesPercentSharesOut', 'fundFamily', 'lastFiscalYearEnd', 'heldPercentInstitutions', 'netIncomeToCommon', 'trailingEps', 'lastDividendValue', 'SandP52WeekChange', 'priceToBook', 'heldPercentInsiders', 'nextFiscalYearEnd', 'yield', 'mostRecentQuarter', 'shortRatio', 'sharesShortPreviousMonthDate', 'floatShares', 'beta', 'enterpriseValue', 'priceHint', 'threeYearAverageReturn', 'lastSplitDate', 'lastSplitFactor', 'legalType', 'lastDividendDate', 'morningStarOverallRating', 'earningsQuarterlyGrowth', 'priceToSalesTrailing12Months', 'dateShortInterest', 'pegRatio', 'ytdReturn', 'forwardPE', 'maxAge', 'lastCapGain', 'shortPercentOfFloat', 'sharesShortPriorMonth', 'impliedSharesOutstanding', 'category', 'fiveYearAverageReturn'])"
      ]
     },
     "execution_count": 45,
     "metadata": {},
     "output_type": "execute_result"
    }
   ],
   "source": [
    "#Acquires company key statistics from page content\n",
    "response_3 = requests.get(url_key_stats.format(stock, stock))\n",
    "stat_content = BeautifulSoup(response_3.text, 'html.parser')\n",
    "\n",
    "\n",
    "#Creates a pattern using a regular expression to pinpoint where the stats are stored\n",
    "pattern = re.compile(r'\\s--\\sData\\s--\\s')\n",
    "script_data = stat_content.find('script', text = pattern).contents[0]\n",
    "\n",
    "\n",
    "#Finds the boundaries of the slice where the financials are stored\n",
    "start = script_data.find(\"context\")-2\n",
    "json_data = json.loads(script_data[start:-12])\n",
    "\n",
    "#Dictionary keys of stats to help create variables\n",
    "stat_list = json_data['context']['dispatcher']['stores']['QuoteSummaryStore']['defaultKeyStatistics'].keys()\n",
    "stat_list"
   ]
  },
  {
   "cell_type": "markdown",
   "metadata": {},
   "source": [
    "<br>"
   ]
  },
  {
   "cell_type": "markdown",
   "metadata": {},
   "source": [
    "#### **3. Scrape Yahoo Finance for Stock Price History** "
   ]
  },
  {
   "cell_type": "code",
   "execution_count": 35,
   "metadata": {},
   "outputs": [],
   "source": [
    "#Acquires stock price history for the selected stock\n",
    "stock_url = 'https://query1.finance.yahoo.com/v7/finance/download/{}?'\n",
    "\n",
    "\n",
    "#Parameters for 5 yeares of stock history\n",
    "params = {\n",
    "    'range': '5y',\n",
    "    'interval': '1d',\n",
    "    'events':'history'\n",
    "}\n",
    "\n",
    "\n",
    "#Acquire the data from the page given the above params\n",
    "response_4 = requests.get(stock_url.format(stock), params=params)\n",
    "\n",
    "\n",
    "#Puts the stock price data into a list\n",
    "price_file = StringIO(response_4.text)\n",
    "reader = csv.reader(price_file)\n",
    "data = list(reader)\n",
    "\n",
    "\n",
    "#Creates a stock price data frame and write to CSV\n",
    "price_df = pd.DataFrame(data)\n",
    "\n",
    "price_df.to_csv('Stock Price - 5 Year Historical.csv')"
   ]
  }
 ],
 "metadata": {
  "kernelspec": {
   "display_name": "Python 3",
   "language": "python",
   "name": "python3"
  },
  "language_info": {
   "codemirror_mode": {
    "name": "ipython",
    "version": 3
   },
   "file_extension": ".py",
   "mimetype": "text/x-python",
   "name": "python",
   "nbconvert_exporter": "python",
   "pygments_lexer": "ipython3",
   "version": "3.8.5"
  }
 },
 "nbformat": 4,
 "nbformat_minor": 4
}
