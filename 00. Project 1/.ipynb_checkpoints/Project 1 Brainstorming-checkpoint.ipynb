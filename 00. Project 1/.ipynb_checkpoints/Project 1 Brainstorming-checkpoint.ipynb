{
 "cells": [
  {
   "cell_type": "markdown",
   "metadata": {},
   "source": [
    "# Project 1: Brainstorming"
   ]
  },
  {
   "cell_type": "markdown",
   "metadata": {},
   "source": [
    "## Questions"
   ]
  },
  {
   "cell_type": "markdown",
   "metadata": {},
   "source": [
    "#### **1) What is the research question(s) that will guide your project?**\n",
    "#### **Question:** Which companies in the S&P500 index are undervalued and exhibit financial strength? Can \"positive\" news sentiment paired with financial strength and an undervalued \"status\" predict stock price appreciation?\n",
    "\n",
    "<br>"
   ]
  },
  {
   "cell_type": "markdown",
   "metadata": {},
   "source": [
    "#### **2) What data are you hoping to scrape? If you are wanting to use other datasets in conjunction with the data you will scrape then say that too.**\n",
    "#### **Data:** Stock Names, Financial Statements (Income Statement, Balance Sheet, Cash Flow Statement), Stock Price History, Yahoo New Articles\n",
    "\n",
    "<br>\n"
   ]
  },
  {
   "cell_type": "markdown",
   "metadata": {},
   "source": [
    "#### **3) What website will you scrape from?**\n",
    "#### Website(s): Wikipedia, Yahoo Finance\n",
    "\n",
    "<br>\n"
   ]
  },
  {
   "cell_type": "markdown",
   "metadata": {},
   "source": [
    "#### **Explanation**\n",
    "#### 1. Extract list of S&P 500 companies from Wikipedia\n",
    "#### 2. Scrape the Yahoo Finance site for Financial Statements and Stock Price History for each security \n",
    "#### 3. Create a multi-layered stock screen to determine companies exhibiting financial strength that are undervalued\n",
    "#### 4. Choose a top-five list of securities (random selection)\n",
    "#### 5. Scrape Yahoo News Articles for langauge associated with \"positive\" sentiment for these 5 securities and rank them\n",
    "#### 6. Compare the stock price performance of these five securities to the ranking they receive through this selection process (linear regression on the stock price performance as a function of undervalued status and financial strength?)"
   ]
  }
 ],
 "metadata": {
  "kernelspec": {
   "display_name": "Python 3",
   "language": "python",
   "name": "python3"
  },
  "language_info": {
   "codemirror_mode": {
    "name": "ipython",
    "version": 3
   },
   "file_extension": ".py",
   "mimetype": "text/x-python",
   "name": "python",
   "nbconvert_exporter": "python",
   "pygments_lexer": "ipython3",
   "version": "3.8.5"
  }
 },
 "nbformat": 4,
 "nbformat_minor": 4
}
