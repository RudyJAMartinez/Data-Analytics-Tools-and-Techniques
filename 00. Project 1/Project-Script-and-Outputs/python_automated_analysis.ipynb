{
 "cells": [
  {
   "cell_type": "markdown",
   "metadata": {},
   "source": [
    "### **Name:** Python Automated Financial Analysis\n",
    "### **University:** University of Texas at San Antonio\n",
    "### **Class:** DA6223 - Data Tools & Techniques\n",
    "### **Author:** Rudy Martinez\n",
    "### **Last Updated:** February 15, 2021"
   ]
  },
  {
   "cell_type": "markdown",
   "metadata": {},
   "source": [
    "<br>"
   ]
  },
  {
   "cell_type": "markdown",
   "metadata": {},
   "source": [
    "### **Project Steps**\n",
    "#### **1.** Scrape S&P 500 companies from Wikipedia and create a CSV file with the scraped company information\n",
    "#### **2.** Create a dataframe from the CSV and randomly select 1 security (ticker symbol)\n",
    "#### **3.** Scrape the Yahoo Finance site for key statistics, financial statements and stock price history for the selected security \n",
    "#### **4.** Create a multi-layered stock screen to determine company's financial strength (fundamental analysis via Piotroski F-Score)\n",
    "#### **5.** Scrape finviz news article headings\n",
    "#### **6.** Perform sentiment analysis on news article headings\n",
    "#### **6.** Can financial strength and positive sentiment predict stock price?"
   ]
  },
  {
   "cell_type": "markdown",
   "metadata": {},
   "source": [
    "<br>"
   ]
  },
  {
   "cell_type": "markdown",
   "metadata": {},
   "source": [
    "#### **Python Packages and Modules**"
   ]
  },
  {
   "cell_type": "code",
   "execution_count": 81,
   "metadata": {},
   "outputs": [],
   "source": [
    "import random\n",
    "import requests\n",
    "import pandas as pd\n",
    "import csv\n",
    "import matplotlib.pyplot as plt\n",
    "from nltk.sentiment.vader import SentimentIntensityAnalyzer\n",
    "from io import StringIO\n",
    "from bs4 import BeautifulSoup\n",
    "from urllib.request import urlopen, Request"
   ]
  },
  {
   "cell_type": "markdown",
   "metadata": {},
   "source": [
    "#### **Scrape S&P 500 companies from Wikipedia and create a CSV file with the scraped company information**"
   ]
  },
  {
   "cell_type": "code",
   "execution_count": 3,
   "metadata": {},
   "outputs": [],
   "source": [
    "wiki_url = 'https://en.wikipedia.org/wiki/List_of_S%26P_500_companies'       #Acquires Wikipedia page content for S&P500 companies\n",
    "response_1 = requests.get(wiki_url)\n",
    "company_page_content = BeautifulSoup(response_1.text, 'html.parser')"
   ]
  },
  {
   "cell_type": "code",
   "execution_count": null,
   "metadata": {},
   "outputs": [],
   "source": [
    "table_id = \"constituents\"                                                    #Stores the table with company information into the company_table variable\n",
    "company_table = company_page_content.find('table', attrs={'id': table_id})"
   ]
  },
  {
   "cell_type": "code",
   "execution_count": null,
   "metadata": {},
   "outputs": [],
   "source": [
    "df = pd.read_html(str(company_table))                                        #Creates a dataframe with company information and writes to csv\n",
    "df[0].to_csv('00. S&P500 Company Information.csv')"
   ]
  },
  {
   "cell_type": "markdown",
   "metadata": {},
   "source": [
    "#### **Create a dataframe from the CSV and randomly select 1 security (ticker symbol)**"
   ]
  },
  {
   "cell_type": "code",
   "execution_count": 17,
   "metadata": {},
   "outputs": [],
   "source": [
    "csv_df = pd.read_csv('00. S&P500 Company Information.csv')                   #Reads the CSV that was generated"
   ]
  },
  {
   "cell_type": "code",
   "execution_count": null,
   "metadata": {},
   "outputs": [],
   "source": [
    "company_list = csv_df['Symbol'].to_list()                                    #Creates a list of companies"
   ]
  },
  {
   "cell_type": "code",
   "execution_count": null,
   "metadata": {},
   "outputs": [],
   "source": [
    "random_company = random.sample(company_list,1)                               #Randomly select 1 company from company_list"
   ]
  },
  {
   "cell_type": "code",
   "execution_count": null,
   "metadata": {},
   "outputs": [],
   "source": [
    "stock = ''.join(random_company)                                              #Establishes the randomly selected stock variable as a string"
   ]
  },
  {
   "cell_type": "markdown",
   "metadata": {},
   "source": [
    "#### **Scrape the Yahoo Finance site for financial statements for the selected security**"
   ]
  },
  {
   "cell_type": "code",
   "execution_count": 5,
   "metadata": {},
   "outputs": [],
   "source": [
    "def conv_to_num(column):                                                     #Function that makes all values numerical - will be needed in the below financial statement scraping   \n",
    "    first_col = [val.replace(',','') for val in column]\n",
    "    second_col = [val.replace('-','') for val in first_col]\n",
    "    final_col = pd.to_numeric(second_col)\n",
    "    return final_col"
   ]
  },
  {
   "cell_type": "code",
   "execution_count": 6,
   "metadata": {},
   "outputs": [],
   "source": [
    "stock = ''.join(random_company)                                              #Establishes the randomly selected stock variable as a string"
   ]
  },
  {
   "cell_type": "code",
   "execution_count": null,
   "metadata": {},
   "outputs": [],
   "source": [
    "url_inc_statement = 'https://finance.yahoo.com/quote/{}/financials?p={}'     #Establishes URLs for Financial Statements and places them in a list\n",
    "url_bs_statement = 'https://finance.yahoo.com/quote/{}/balance-sheet?p={}'\n",
    "url_cf_statement = 'https://finance.yahoo.com/quote/{}/cash-flow?p={}'\n",
    "url_list = [url_inc_statement, url_bs_statement, url_cf_statement]"
   ]
  },
  {
   "cell_type": "code",
   "execution_count": null,
   "metadata": {},
   "outputs": [],
   "source": [
    "statement_count = 0\n",
    "for statement in url_list:\n",
    "    response_2 = requests.get(statement.format(stock, stock))                #Acquires company financial statement page content \n",
    "    fin_content = BeautifulSoup(response_2.text, 'html.parser')\n",
    "    fin_data = fin_content.find_all('div', class_= 'D(tbr)')\n",
    "\n",
    "    headers = []\n",
    "    temp_list = []\n",
    "    label_list = []\n",
    "    final = []\n",
    "    index = 0\n",
    "\n",
    "    for item in fin_data[0].find_all('div', class_= 'D(ib)'):                #Creates Headers for statement\n",
    "        headers.append(item.text)\n",
    "\n",
    "    while index <= len(fin_data) - 1:                                        #Statement Contents\n",
    "        temp = fin_data[index].find_all('div', class_= 'D(tbc)')\n",
    "        for line in temp:\n",
    "            temp_list.append(line.text)\n",
    "        final.append(temp_list)\n",
    "        temp_list = []\n",
    "        index += 1\n",
    "    \n",
    "    df = pd.DataFrame(final[1:])                                             #Places statement contents into a dataframe\n",
    "    df.columns = headers\n",
    "     \n",
    "    for column in headers[1:]:                                               #Makes all values numerical and removes na\n",
    "        df[column] = conv_to_num(df[column])\n",
    "\n",
    "    final_df = df.fillna('0')\n",
    "    \n",
    "    statement_count += 1                                                     #Used as a naming input for the csv export below\n",
    "    if statement_count == 1:                                                 #Writes to csv for each financial statement\n",
    "        final_df.to_csv(f'01. {stock} Income Statement.csv')\n",
    "    elif statement_count == 2:\n",
    "        final_df.to_csv(f'02. {stock} Balance Sheet.csv')\n",
    "    else:\n",
    "        final_df.to_csv(f'03. {stock} Cash Flow Statement.csv')"
   ]
  },
  {
   "cell_type": "markdown",
   "metadata": {},
   "source": [
    "#### **Scrape the Yahoo Finance site for stock price history for the selected security**"
   ]
  },
  {
   "cell_type": "code",
   "execution_count": 7,
   "metadata": {},
   "outputs": [],
   "source": [
    "stock_url = 'https://query1.finance.yahoo.com/v7/finance/download/{}?'       #Acquires stock price history for the selected stock"
   ]
  },
  {
   "cell_type": "code",
   "execution_count": null,
   "metadata": {},
   "outputs": [],
   "source": [
    "params = {                                                                   #Parameters for 5 yeares of stock history\n",
    "    'range': '5y',\n",
    "    'interval': '1d',\n",
    "    'events':'history'\n",
    "}"
   ]
  },
  {
   "cell_type": "code",
   "execution_count": null,
   "metadata": {},
   "outputs": [],
   "source": [
    "response_3 = requests.get(stock_url.format(stock), params=params)            #Acquire the data from the page given the above params"
   ]
  },
  {
   "cell_type": "code",
   "execution_count": null,
   "metadata": {},
   "outputs": [],
   "source": [
    "price_file = StringIO(response_3.text)                                       #Puts the stock price data into a list\n",
    "reader = csv.reader(price_file)\n",
    "data = list(reader)"
   ]
  },
  {
   "cell_type": "code",
   "execution_count": null,
   "metadata": {},
   "outputs": [],
   "source": [
    "price_df = pd.DataFrame(data)                                                #Creates a stock price data frame and write to CSV\n",
    "price_df.to_csv(f'04. {stock} Stock Price - 5 Year Historical.csv')"
   ]
  },
  {
   "cell_type": "markdown",
   "metadata": {},
   "source": [
    "#### **Scrape the Yahoo Finance site for key statistics for the selected security**"
   ]
  },
  {
   "cell_type": "code",
   "execution_count": 8,
   "metadata": {},
   "outputs": [],
   "source": [
    "stats = pd.read_html(f'https://finance.yahoo.com/quote/{stock}/key-statistics?p={stock}')"
   ]
  },
  {
   "cell_type": "code",
   "execution_count": null,
   "metadata": {},
   "outputs": [],
   "source": [
    "key_stats = stats[0]                                                         #Create dataframe with statistics\n",
    "stats_df = pd.DataFrame(key_stats)"
   ]
  },
  {
   "cell_type": "code",
   "execution_count": null,
   "metadata": {},
   "outputs": [],
   "source": [
    "stats_df.to_csv(f'05. {stock} Statistics.csv')                               #Write the dataframe to csv"
   ]
  },
  {
   "cell_type": "markdown",
   "metadata": {},
   "source": [
    "#### **Create a multi-layered stock screen to determine company's financial strength (fundamental analysis via Piotroski F-score)**"
   ]
  },
  {
   "cell_type": "markdown",
   "metadata": {},
   "source": [
    "##### **Importing Yahoo Finance module for the financial items that were not able to be scraped (the majority of the financials are coming from the initial web_scrape)**"
   ]
  },
  {
   "cell_type": "code",
   "execution_count": 9,
   "metadata": {},
   "outputs": [],
   "source": [
    "import yahoo_fin.stock_info as yf\n",
    "\n",
    "yf_bs = []\n",
    "yf_is = []\n",
    "yf_cf = []\n",
    "years = []\n",
    "\n",
    "yf_bs = yf.get_balance_sheet(stock)\n",
    "yf_is = yf.get_income_statement(stock)\n",
    "yf_cf = yf.get_cash_flow(stock)\n",
    "years = yf_bs.columns"
   ]
  },
  {
   "cell_type": "markdown",
   "metadata": {},
   "source": [
    "##### **Fundamental analysis using web scraped data**"
   ]
  },
  {
   "cell_type": "code",
   "execution_count": 10,
   "metadata": {},
   "outputs": [],
   "source": [
    "income_statement = pd.read_csv(f'01. {stock} Income Statement.csv')          #Reads in the financial statement CSVs that were generated as well as the years\n",
    "balance_sheet = pd.read_csv(f'02. {stock} Balance Sheet.csv')\n",
    "cashflow_statement = pd.read_csv(f'03. {stock} Cash Flow Statement.csv')\n",
    "years = list(income_statement.columns[3:6])"
   ]
  },
  {
   "cell_type": "code",
   "execution_count": null,
   "metadata": {},
   "outputs": [],
   "source": [
    "income_statement.drop(income_statement.columns[0], axis = 1, inplace = True) #Remove first column from dataframes\n",
    "balance_sheet.drop(balance_sheet.columns[0], axis = 1, inplace = True)\n",
    "cashflow_statement.drop(cashflow_statement.columns[0], axis = 1, inplace = True)"
   ]
  },
  {
   "cell_type": "code",
   "execution_count": null,
   "metadata": {},
   "outputs": [],
   "source": [
    "profitability_score = 0                                                      #Initialize scoring tracker\n",
    "leverage_liquidity_score = 0\n",
    "operating_efficiency_score = 0"
   ]
  },
  {
   "cell_type": "code",
   "execution_count": null,
   "metadata": {},
   "outputs": [],
   "source": [
    "def profitability():\n",
    "    global profitability_score\n",
    "    roa_cy = float(income_statement.iloc[4, 2]) / float(balance_sheet.iloc[0, 1])\n",
    "    roa_py = income_statement.iloc[4, 3] / balance_sheet.iloc[0, 2]\n",
    "    cfo_cy = cashflow_statement.iloc[0, 2]\n",
    "    cfo_py = cashflow_statement.iloc[0,3]\n",
    "    \n",
    "    if roa_cy > 0:                                                           #return on assets logic\n",
    "        profitability_score += 1\n",
    "    if roa_cy - roa_py > 0:\n",
    "        profitability_score += 1\n",
    "    else:\n",
    "        profitability_score += 0\n",
    "   \n",
    "    if cfo_cy > 0:                                                           #cash flow from operations logic\n",
    "        profitability_score += 1\n",
    "    if cfo_cy - cfo_py > 0:\n",
    "        profitability_score += 1\n",
    "    else:\n",
    "        profitability_score += 0\n",
    "    \n",
    "    return profitability_score"
   ]
  },
  {
   "cell_type": "code",
   "execution_count": null,
   "metadata": {},
   "outputs": [],
   "source": [
    "def leverage():\n",
    "    global leverage_liquidity_score\n",
    "    lever_cy = balance_sheet.iloc[8, 1] / balance_sheet.iloc[0, 1]\n",
    "    lever_py = balance_sheet.iloc[8, 2] / balance_sheet.iloc[0, 2]\n",
    "    cur_ratio_cy = yf_bs.iloc[15, 0] / yf_bs.iloc[13, 0]\n",
    "    cur_ratio_py = yf_bs.iloc[15, 1] / yf_bs.iloc[13, 1]\n",
    "    share_cy = balance_sheet.iloc[10, 1]\n",
    "    share_py = balance_sheet.iloc[10, 2]\n",
    "    \n",
    "    if lever_cy - lever_py < 0:                                              #leverage logic\n",
    "        leverage_liquidity_score += 1\n",
    "    else:\n",
    "        leverage_liquidity_score += 0\n",
    "    \n",
    "    if cur_ratio_cy - cur_ratio_py > 0:                                      #liquidity logic\n",
    "        leverage_liquidity_score += 1\n",
    "    else:\n",
    "        leverage_liquidity_score += 0\n",
    "\n",
    "    if share_cy - share_py < 0:                                              #shares logic\n",
    "        leverage_liquidity_score += 1\n",
    "    else:\n",
    "        leverage_liquidity_score+= 0\n",
    "\n",
    "    return leverage_liquidity_score"
   ]
  },
  {
   "cell_type": "code",
   "execution_count": null,
   "metadata": {},
   "outputs": [],
   "source": [
    "def operating_efficiency():\n",
    "    global operating_efficiency_score\n",
    "    gm_cy = yf_is.iloc[6, 0] / yf_is.iloc[15, 0]\n",
    "    gm_py = yf_is.iloc[6, 1] / yf_is.iloc[15, 1]\n",
    "    turn_cy = balance_sheet.iloc[0, 2] / ((balance_sheet.iloc[0, 1] + balance_sheet.iloc[0, 2]) / 2)\n",
    "    turn_py = balance_sheet.iloc[0, 3] / ((balance_sheet.iloc[0, 2] + balance_sheet.iloc[0, 3]) / 2)\n",
    "    \n",
    "    if gm_cy - gm_py > 0:                                                    #gm logic\n",
    "        operating_efficiency_score += 1\n",
    "    else:\n",
    "        operating_efficiency_score += 0\n",
    "    \n",
    "    if turn_cy - turn_py > 0:                                                #asset turnover ratio logic\n",
    "        operating_efficiency_score += 1\n",
    "    else:\n",
    "        operating_efficiency_score += 0\n",
    "        \n",
    "    return operating_efficiency_score"
   ]
  },
  {
   "cell_type": "markdown",
   "metadata": {},
   "source": [
    "#### **Export Financial Strength Scoring CSV (fundamental analysis via Piotroski F-Score)**"
   ]
  },
  {
   "cell_type": "code",
   "execution_count": 13,
   "metadata": {},
   "outputs": [],
   "source": [
    "p_score = profitability()\n",
    "lev_score = leverage()\n",
    "oper_score = operating_efficiency()"
   ]
  },
  {
   "cell_type": "code",
   "execution_count": null,
   "metadata": {},
   "outputs": [],
   "source": [
    "fin_strength_scores = {'Profitability Score': p_score, \n",
    "                       'Leverage and Liquidity Score': lev_score, \n",
    "                       'Operating Efficiency Score': oper_score, \n",
    "                       'Total Score': p_score + lev_score + oper_score}"
   ]
  },
  {
   "cell_type": "code",
   "execution_count": null,
   "metadata": {},
   "outputs": [],
   "source": [
    "fin_strength_df = pd.DataFrame(list(fin_strength_scores.items()),columns = ['Scoring Criteria','Score']) \n",
    "fin_strength_df.to_csv(f'06. {stock} Piotroski Score Results.csv')"
   ]
  },
  {
   "cell_type": "markdown",
   "metadata": {},
   "source": [
    "#### **Scrape finviz news article headings**"
   ]
  },
  {
   "cell_type": "code",
   "execution_count": 51,
   "metadata": {},
   "outputs": [],
   "source": [
    "finviz_url = f'https://finviz.com/quote.ashx?t={stock}'"
   ]
  },
  {
   "cell_type": "code",
   "execution_count": 52,
   "metadata": {},
   "outputs": [],
   "source": [
    "req = Request(url = finviz_url, headers = {'user-agent': 'my-analysis'})\n",
    "response = urlopen(req)\n",
    "html = BeautifulSoup(response, 'html')"
   ]
  },
  {
   "cell_type": "code",
   "execution_count": 53,
   "metadata": {},
   "outputs": [],
   "source": [
    "news_tables = {}\n",
    "news_table = html.find(id = 'news-table')\n",
    "news_tables[stock] = news_table"
   ]
  },
  {
   "cell_type": "code",
   "execution_count": 54,
   "metadata": {},
   "outputs": [],
   "source": [
    "stock_data = news_tables[stock]\n",
    "stock_rows = stock_data.findAll('tr')"
   ]
  },
  {
   "cell_type": "code",
   "execution_count": 63,
   "metadata": {},
   "outputs": [],
   "source": [
    "parsed_data = []\n",
    "\n",
    "for stock, news_table in news_tables.items():\n",
    "    for row in news_table.findAll('tr'):   \n",
    "        title = row.a.text\n",
    "        date_data = row.td.text.split(' ')\n",
    "        \n",
    "        if len(date_data) == 1:\n",
    "            time = date_data[0]\n",
    "        else:\n",
    "            date = date_data[0]\n",
    "            time = date_data[1]\n",
    "        \n",
    "        parsed_data.append([stock, date, time, title])"
   ]
  },
  {
   "cell_type": "markdown",
   "metadata": {},
   "source": [
    "#### **Perform sentiment analysis on news article headings**"
   ]
  },
  {
   "cell_type": "code",
   "execution_count": 76,
   "metadata": {},
   "outputs": [],
   "source": [
    "news_df = pd.DataFrame(parsed_data, columns = ['stock', 'date', 'time', 'heading'])"
   ]
  },
  {
   "cell_type": "code",
   "execution_count": 77,
   "metadata": {},
   "outputs": [],
   "source": [
    "vader = SentimentIntensityAnalyzer()\n",
    "lambda_func = lambda title: vader.polarity_scores(title)['compound']\n",
    "news_df['compound score'] = news_df['heading'].apply(lambda_func)"
   ]
  },
  {
   "cell_type": "code",
   "execution_count": 79,
   "metadata": {},
   "outputs": [],
   "source": [
    "news_df['date'] = pd.to_datetime(news_df.date).dt.date"
   ]
  },
  {
   "cell_type": "code",
   "execution_count": 80,
   "metadata": {},
   "outputs": [],
   "source": [
    "news_df.to_csv(f'07. {stock} Sentiment Analysis.csv')"
   ]
  },
  {
   "cell_type": "markdown",
   "metadata": {},
   "source": [
    "#### **Visualization of Sentiment Analysis**"
   ]
  },
  {
   "cell_type": "code",
   "execution_count": null,
   "metadata": {},
   "outputs": [],
   "source": [
    "plt.figure(figsize = (10, 8))"
   ]
  }
 ],
 "metadata": {
  "kernelspec": {
   "display_name": "Python 3",
   "language": "python",
   "name": "python3"
  },
  "language_info": {
   "codemirror_mode": {
    "name": "ipython",
    "version": 3
   },
   "file_extension": ".py",
   "mimetype": "text/x-python",
   "name": "python",
   "nbconvert_exporter": "python",
   "pygments_lexer": "ipython3",
   "version": "3.8.5"
  }
 },
 "nbformat": 4,
 "nbformat_minor": 4
}
