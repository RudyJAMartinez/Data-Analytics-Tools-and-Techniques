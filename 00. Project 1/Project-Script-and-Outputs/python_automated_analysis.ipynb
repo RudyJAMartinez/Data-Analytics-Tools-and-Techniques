{
 "cells": [
  {
   "cell_type": "markdown",
   "metadata": {},
   "source": [
    "### **Name:** Python Automated Financial Analysis\n",
    "### **University:** University of Texas at San Antonio\n",
    "### **Class:** DA6223 - Data Tools & Techniques\n",
    "### **Author:** Rudy Martinez\n",
    "### **Last Updated:** February 4, 2021"
   ]
  },
  {
   "cell_type": "markdown",
   "metadata": {},
   "source": [
    "<br>"
   ]
  },
  {
   "cell_type": "markdown",
   "metadata": {},
   "source": [
    "### **Project Steps**\n",
    "#### **1.** Scrape S&P 500 companies from Wikipedia and create a CSV file with the scraped company information\n",
    "#### **2.** Create a dataframe from the CSV and randomly select 1 security (ticker symbol)\n",
    "#### **3.** Scrape the Yahoo Finance site for key statistics, financial statements and stock price history for the selected security \n",
    "#### **4.** Create a multi-layered stock screen to determine company's financial strength (fundamental analysis via Piotroski F-Score)\n",
    "#### **5.** Scrape Yahoo News Articles for langauge associated with \"positive\" sentiment for the security\n",
    "#### **6.** Can financial strength and positive sentiment predict stock price?"
   ]
  },
  {
   "cell_type": "markdown",
   "metadata": {},
   "source": [
    "<br>"
   ]
  },
  {
   "cell_type": "markdown",
   "metadata": {},
   "source": [
    "#### **Python Packages and Modules**"
   ]
  },
  {
   "cell_type": "code",
   "execution_count": 1,
   "metadata": {},
   "outputs": [],
   "source": [
    "import random\n",
    "from bs4 import BeautifulSoup\n",
    "import requests\n",
    "import pandas as pd\n",
    "from io import StringIO\n",
    "import csv"
   ]
  },
  {
   "cell_type": "markdown",
   "metadata": {},
   "source": [
    "<br>"
   ]
  },
  {
   "cell_type": "markdown",
   "metadata": {},
   "source": [
    "#### **1. Scrape S&P 500 companies from Wikipedia and create a CSV file with the scraped company information**"
   ]
  },
  {
   "cell_type": "code",
   "execution_count": 2,
   "metadata": {},
   "outputs": [],
   "source": [
    "#Acquires Wikipedia page content for S&P500 companies\n",
    "wiki_url = 'https://en.wikipedia.org/wiki/List_of_S%26P_500_companies'\n",
    "response_1 = requests.get(wiki_url)\n",
    "company_page_content = BeautifulSoup(response_1.text, 'html.parser')\n",
    "\n",
    "\n",
    "#Stores the table with company information into the company_table variable\n",
    "table_id = \"constituents\"\n",
    "company_table = company_page_content.find('table', attrs={'id': table_id})\n",
    "\n",
    "\n",
    "#Creates a dataframe with company information and writes to csv\n",
    "df = pd.read_html(str(company_table))\n",
    "df[0].to_csv('00. S&P500 Company Information.csv')"
   ]
  },
  {
   "cell_type": "markdown",
   "metadata": {},
   "source": [
    "<br>"
   ]
  },
  {
   "cell_type": "markdown",
   "metadata": {},
   "source": [
    "#### **2. Create a dataframe from the CSV and randomly select 1 security (ticker symbol)**"
   ]
  },
  {
   "cell_type": "code",
   "execution_count": 22,
   "metadata": {},
   "outputs": [
    {
     "data": {
      "text/plain": [
       "['MAS']"
      ]
     },
     "execution_count": 22,
     "metadata": {},
     "output_type": "execute_result"
    }
   ],
   "source": [
    "#Reads the CSV that was generated\n",
    "csv_df = pd.read_csv('00. S&P500 Company Information.csv')\n",
    "\n",
    "\n",
    "#Creates a list of companies\n",
    "company_list = csv_df['Symbol'].to_list()\n",
    "\n",
    "\n",
    "#Randomly select 1 company from company_list\n",
    "random_company = random.sample(company_list,1)\n",
    "\n",
    "\n",
    "#Establishes the randomly selected stock variable as a string\n",
    "stock = ''.join(random_company)\n",
    "\n",
    "random_company"
   ]
  },
  {
   "cell_type": "markdown",
   "metadata": {},
   "source": [
    "<br>"
   ]
  },
  {
   "cell_type": "markdown",
   "metadata": {},
   "source": [
    "#### **3. Scrape the Yahoo Finance site for financial statements for the selected security**"
   ]
  },
  {
   "cell_type": "code",
   "execution_count": 23,
   "metadata": {},
   "outputs": [],
   "source": [
    "#Funtion that makes all values numerical - will be needed in the below financial statement scraping\n",
    "def conv_to_num(column):\n",
    "    first_col = [val.replace(',','') for val in column]\n",
    "    second_col = [val.replace('-','') for val in first_col]\n",
    "    final_col = pd.to_numeric(second_col)\n",
    "    \n",
    "    return final_col"
   ]
  },
  {
   "cell_type": "code",
   "execution_count": 24,
   "metadata": {},
   "outputs": [],
   "source": [
    "#Establishes the randomly selected stock variable as a string\n",
    "stock = ''.join(random_company)\n",
    "\n",
    "\n",
    "#Establishes URLs for Financial Statements and places them in a list\n",
    "url_inc_statement = 'https://finance.yahoo.com/quote/{}/financials?p={}'\n",
    "url_bs_statement = 'https://finance.yahoo.com/quote/{}/balance-sheet?p={}'\n",
    "url_cf_statement = 'https://finance.yahoo.com/quote/{}/cash-flow?p={}'\n",
    "url_list = [url_inc_statement, url_bs_statement, url_cf_statement]\n",
    "\n",
    "statement_count = 0\n",
    "\n",
    "for statement in url_list:\n",
    "    #Acquires company financial statement page content \n",
    "    response_2 = requests.get(statement.format(stock, stock))\n",
    "    fin_content = BeautifulSoup(response_2.text, 'html.parser')\n",
    "    fin_data = fin_content.find_all('div', class_= 'D(tbr)')\n",
    "\n",
    "    headers = []\n",
    "    temp_list = []\n",
    "    label_list = []\n",
    "    final = []\n",
    "    index = 0\n",
    "\n",
    "    #Creates Headers for statement\n",
    "    for item in fin_data[0].find_all('div', class_= 'D(ib)'):\n",
    "        headers.append(item.text)\n",
    "\n",
    "\n",
    "    #Statement Contents\n",
    "    while index <= len(fin_data) - 1:\n",
    "        temp = fin_data[index].find_all('div', class_= 'D(tbc)')\n",
    "        for line in temp:\n",
    "            temp_list.append(line.text)\n",
    "        final.append(temp_list)\n",
    "        temp_list = []\n",
    "        index += 1\n",
    "    \n",
    "    \n",
    "    #Places statement contents into a dataframe\n",
    "    df = pd.DataFrame(final[1:])\n",
    "    df.columns = headers\n",
    "    \n",
    "    \n",
    "    #Makes all values numerical and removes na \n",
    "    for column in headers[1:]:\n",
    "        df[column] = conv_to_num(df[column])\n",
    "    \n",
    "    final_df = df.fillna('0')\n",
    "    \n",
    "    \n",
    "    #Used as a naming input for the csv export below\n",
    "    statement_count += 1\n",
    "    \n",
    "    \n",
    "    #Writes to csv for each financial statement\n",
    "    if statement_count == 1:\n",
    "        final_df.to_csv(f'01. {stock} Income Statement.csv')\n",
    "    elif statement_count == 2:\n",
    "        final_df.to_csv(f'02. {stock} Balance Sheet.csv')\n",
    "    else:\n",
    "        final_df.to_csv(f'03. {stock} Cash Flow Statement.csv')"
   ]
  },
  {
   "cell_type": "markdown",
   "metadata": {},
   "source": [
    "<br>"
   ]
  },
  {
   "cell_type": "markdown",
   "metadata": {},
   "source": [
    "#### **3. Scrape the Yahoo Finance site for stock price history for the selected security**"
   ]
  },
  {
   "cell_type": "code",
   "execution_count": 25,
   "metadata": {},
   "outputs": [],
   "source": [
    "#Acquires stock price history for the selected stock\n",
    "stock_url = 'https://query1.finance.yahoo.com/v7/finance/download/{}?'\n",
    "\n",
    "\n",
    "#Parameters for 5 yeares of stock history\n",
    "params = {\n",
    "    'range': '5y',\n",
    "    'interval': '1d',\n",
    "    'events':'history'\n",
    "}\n",
    "\n",
    "\n",
    "#Acquire the data from the page given the above params\n",
    "response_3 = requests.get(stock_url.format(stock), params=params)\n",
    "\n",
    "\n",
    "#Puts the stock price data into a list\n",
    "price_file = StringIO(response_3.text)\n",
    "reader = csv.reader(price_file)\n",
    "data = list(reader)\n",
    "\n",
    "\n",
    "#Creates a stock price data frame and write to CSV\n",
    "price_df = pd.DataFrame(data)\n",
    "price_df.to_csv(f'04. {stock} Stock Price - 5 Year Historical.csv')"
   ]
  },
  {
   "cell_type": "markdown",
   "metadata": {},
   "source": [
    "<br>"
   ]
  },
  {
   "cell_type": "markdown",
   "metadata": {},
   "source": [
    "#### **3. Scrape the Yahoo Finance site for key statistics for the selected security**"
   ]
  },
  {
   "cell_type": "code",
   "execution_count": 26,
   "metadata": {},
   "outputs": [],
   "source": [
    "#Established url for Key Statistics\n",
    "stats = pd.read_html(f'https://finance.yahoo.com/quote/{stock}/key-statistics?p={stock}')\n",
    "\n",
    "\n",
    "#Create dataframe with statistics\n",
    "key_stats = stats[0]\n",
    "stats_df = pd.DataFrame(key_stats)\n",
    "\n",
    "#Write the dataframe to csv\n",
    "stats_df.to_csv(f'05. {stock} Statistics.csv')"
   ]
  },
  {
   "cell_type": "markdown",
   "metadata": {},
   "source": [
    "<br>"
   ]
  },
  {
   "cell_type": "markdown",
   "metadata": {},
   "source": [
    "#### **4. Create a multi-layered stock screen to determine company's financial strength (fundamental analysis via Piotroski F-score)**"
   ]
  },
  {
   "cell_type": "code",
   "execution_count": 27,
   "metadata": {},
   "outputs": [],
   "source": [
    "# Importing Yahoo Finance module for the financial items that were not able to be scraped (the majority of the financials are coming from the initial web_scrape)\n",
    "import yahoo_fin.stock_info as yf\n",
    "\n",
    "yf_bs = []\n",
    "yf_is = []\n",
    "yf_cf = []\n",
    "years = []\n",
    "\n",
    "yf_bs = yf.get_balance_sheet(stock)\n",
    "yf_is = yf.get_income_statement(stock)\n",
    "yf_cf = yf.get_cash_flow(stock)\n",
    "years = yf_bs.columns"
   ]
  },
  {
   "cell_type": "code",
   "execution_count": 28,
   "metadata": {},
   "outputs": [],
   "source": [
    "#Reads in the financial statement CSVs that were generated as well as the years\n",
    "income_statement = pd.read_csv(f'01. {stock} Income Statement.csv')\n",
    "balance_sheet = pd.read_csv(f'02. {stock} Balance Sheet.csv')\n",
    "cashflow_statement = pd.read_csv(f'03. {stock} Cash Flow Statement.csv')\n",
    "years = list(income_statement.columns[3:6])\n",
    "\n",
    "#Remove first column from dataframes\n",
    "income_statement.drop(income_statement.columns[0], axis = 1, inplace = True)\n",
    "balance_sheet.drop(balance_sheet.columns[0], axis = 1, inplace = True)\n",
    "cashflow_statement.drop(cashflow_statement.columns[0], axis = 1, inplace = True)\n",
    "\n",
    "#Initialize scoring tracker\n",
    "profitability_score = 0\n",
    "leverage_liquidity_score = 0\n",
    "operating_efficiency_score = 0\n",
    "\n",
    "\n",
    "def profitability():\n",
    "    global profitability_score\n",
    "    \n",
    "    roa_cy = float(income_statement.iloc[4, 2]) / float(balance_sheet.iloc[0, 1])\n",
    "    roa_py = income_statement.iloc[4, 3] / balance_sheet.iloc[0, 2]\n",
    "    cfo_cy = cashflow_statement.iloc[0, 2]\n",
    "    cfo_py = cashflow_statement.iloc[0,3]\n",
    "    \n",
    "    #return on assets logic\n",
    "    if roa_cy > 0:\n",
    "        profitability_score += 1\n",
    "    if roa_cy - roa_py > 0:\n",
    "        profitability_score += 1\n",
    "    else:\n",
    "        profitability_score += 0\n",
    "   \n",
    "    #cash flow from operations logic\n",
    "    if cfo_cy > 0:\n",
    "        profitability_score += 1\n",
    "    if cfo_cy - cfo_py > 0:\n",
    "        profitability_score += 1\n",
    "    else:\n",
    "        profitability_score += 0\n",
    "    \n",
    "    return profitability_score\n",
    "\n",
    "\n",
    "def leverage():\n",
    "    global leverage_liquidity_score\n",
    "    \n",
    "    lever_cy = balance_sheet.iloc[8, 1] / balance_sheet.iloc[0, 1]\n",
    "    lever_py = balance_sheet.iloc[8, 2] / balance_sheet.iloc[0, 2]\n",
    "    cur_ratio_cy = yf_bs.iloc[15, 0] / yf_bs.iloc[13, 0]\n",
    "    cur_ratio_py = yf_bs.iloc[15, 1] / yf_bs.iloc[13, 1]\n",
    "    share_cy = balance_sheet.iloc[10, 1]\n",
    "    share_py = balance_sheet.iloc[10, 2]\n",
    "    \n",
    "    #leverage logic\n",
    "    if lever_cy - lever_py < 0:\n",
    "        leverage_liquidity_score += 1\n",
    "    else:\n",
    "        leverage_liquidity_score += 0\n",
    "    \n",
    "    #liquidity logic\n",
    "    if cur_ratio_cy - cur_ratio_py > 0:\n",
    "        leverage_liquidity_score += 1\n",
    "    else:\n",
    "        leverage_liquidity_score += 0\n",
    "    \n",
    "    #shares logic\n",
    "    if share_cy - share_py < 0:\n",
    "        leverage_liquidity_score += 1\n",
    "    else:\n",
    "        leverage_liquidity_score+= 0\n",
    "\n",
    "    return leverage_liquidity_score\n",
    "    \n",
    "\n",
    "def operating_efficiency():\n",
    "    global operating_efficiency_score\n",
    "    \n",
    "    gm_cy = yf_is.iloc[6, 0] / yf_is.iloc[15, 0]\n",
    "    gm_py = yf_is.iloc[6, 1] / yf_is.iloc[15, 1]\n",
    "    turn_cy = balance_sheet.iloc[0, 2] / ((balance_sheet.iloc[0, 1] + balance_sheet.iloc[0, 2]) / 2)\n",
    "    turn_py = balance_sheet.iloc[0, 3] / ((balance_sheet.iloc[0, 2] + balance_sheet.iloc[0, 3]) / 2)\n",
    "    \n",
    "    #gm logic\n",
    "    if gm_cy - gm_py > 0:\n",
    "        operating_efficiency_score += 1\n",
    "    else:\n",
    "        operating_efficiency_score += 0\n",
    "    \n",
    "    #asset turnover ratio logic\n",
    "    if turn_cy - turn_py > 0:\n",
    "        operating_efficiency_score += 1\n",
    "    else:\n",
    "        operating_efficiency_score += 0\n",
    "        \n",
    "    return operating_efficiency_score"
   ]
  },
  {
   "cell_type": "markdown",
   "metadata": {},
   "source": [
    "#### **4. Export Financial Strength Scoring CSV (fundamental analysis via Piotroski F-Score)**"
   ]
  },
  {
   "cell_type": "code",
   "execution_count": 29,
   "metadata": {},
   "outputs": [],
   "source": [
    "p_score = profitability()\n",
    "lev_score = leverage()\n",
    "oper_score = operating_efficiency()\n",
    "\n",
    "fin_strength_scores = {'Profitability Score': p_score, \n",
    "                       'Leverage and Liquidity Score': lev_score, \n",
    "                       'Operating Efficiency Score': oper_score, \n",
    "                       'Total Score': p_score + lev_score + oper_score}\n",
    "\n",
    "fin_strength_df = pd.DataFrame(list(fin_strength_scores.items()),columns = ['Scoring Criteria','Score']) \n",
    "fin_strength_df.to_csv(f'06. {stock} Piotroski Score Results.csv')"
   ]
  }
 ],
 "metadata": {
  "kernelspec": {
   "display_name": "Python 3",
   "language": "python",
   "name": "python3"
  },
  "language_info": {
   "codemirror_mode": {
    "name": "ipython",
    "version": 3
   },
   "file_extension": ".py",
   "mimetype": "text/x-python",
   "name": "python",
   "nbconvert_exporter": "python",
   "pygments_lexer": "ipython3",
   "version": "3.8.5"
  }
 },
 "nbformat": 4,
 "nbformat_minor": 4
}
