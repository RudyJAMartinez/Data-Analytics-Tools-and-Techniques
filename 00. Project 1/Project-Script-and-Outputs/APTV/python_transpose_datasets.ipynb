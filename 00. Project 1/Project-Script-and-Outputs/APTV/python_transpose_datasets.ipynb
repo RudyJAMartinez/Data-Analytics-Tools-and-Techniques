{
 "cells": [
  {
   "cell_type": "code",
   "execution_count": 2,
   "metadata": {},
   "outputs": [],
   "source": [
    "import pandas as pd\n",
    "import csv\n",
    "import os"
   ]
  },
  {
   "cell_type": "code",
   "execution_count": 3,
   "metadata": {},
   "outputs": [
    {
     "data": {
      "text/plain": [
       "'/Users/rudymartinez/Desktop/MSDA/Data-Analytics-Tools-and-Techniques/00. Project 1/Project-Script-and-Outputs/APTV'"
      ]
     },
     "execution_count": 3,
     "metadata": {},
     "output_type": "execute_result"
    }
   ],
   "source": [
    "pwd"
   ]
  },
  {
   "cell_type": "markdown",
   "metadata": {},
   "source": [
    "#### Create DataFrames and Transpose"
   ]
  },
  {
   "cell_type": "code",
   "execution_count": 7,
   "metadata": {},
   "outputs": [],
   "source": [
    "inc_df = pd.read_csv(\"01. APTV Income Statement.csv\")\n",
    "# inc_df = inc_df.T"
   ]
  },
  {
   "cell_type": "code",
   "execution_count": 8,
   "metadata": {},
   "outputs": [],
   "source": [
    "bs_df = pd.read_csv(\"02. APTV Balance Sheet.csv\")\n",
    "# bs_df = bs_df.T"
   ]
  },
  {
   "cell_type": "code",
   "execution_count": 9,
   "metadata": {},
   "outputs": [],
   "source": [
    "cf_df = pd.read_csv(\"03. APTV Cash Flow Statement.csv\")\n",
    "# cf_df = cf_df.T"
   ]
  },
  {
   "cell_type": "markdown",
   "metadata": {},
   "source": [
    "#### Clean Dataframes"
   ]
  },
  {
   "cell_type": "code",
   "execution_count": 11,
   "metadata": {},
   "outputs": [],
   "source": [
    "inc_df = inc_df.iloc[1:]\n",
    "bs_df = bs_df.iloc[1:]\n",
    "cf_df = cf_df.iloc[1:]"
   ]
  },
  {
   "cell_type": "code",
   "execution_count": 12,
   "metadata": {},
   "outputs": [
    {
     "data": {
      "text/html": [
       "<div>\n",
       "<style scoped>\n",
       "    .dataframe tbody tr th:only-of-type {\n",
       "        vertical-align: middle;\n",
       "    }\n",
       "\n",
       "    .dataframe tbody tr th {\n",
       "        vertical-align: top;\n",
       "    }\n",
       "\n",
       "    .dataframe thead th {\n",
       "        text-align: right;\n",
       "    }\n",
       "</style>\n",
       "<table border=\"1\" class=\"dataframe\">\n",
       "  <thead>\n",
       "    <tr style=\"text-align: right;\">\n",
       "      <th></th>\n",
       "      <th>Unnamed: 0</th>\n",
       "      <th>0</th>\n",
       "      <th>1</th>\n",
       "      <th>2</th>\n",
       "      <th>3</th>\n",
       "      <th>4</th>\n",
       "      <th>5</th>\n",
       "      <th>6</th>\n",
       "      <th>7</th>\n",
       "      <th>8</th>\n",
       "      <th>9</th>\n",
       "    </tr>\n",
       "  </thead>\n",
       "  <tbody>\n",
       "    <tr>\n",
       "      <th>1</th>\n",
       "      <td>Breakdown</td>\n",
       "      <td>Operating Cash Flow</td>\n",
       "      <td>Investing Cash Flow</td>\n",
       "      <td>Financing Cash Flow</td>\n",
       "      <td>End Cash Position</td>\n",
       "      <td>Capital Expenditure</td>\n",
       "      <td>Issuance of Capital Stock</td>\n",
       "      <td>Issuance of Debt</td>\n",
       "      <td>Repayment of Debt</td>\n",
       "      <td>Repurchase of Capital Stock</td>\n",
       "      <td>Free Cash Flow</td>\n",
       "    </tr>\n",
       "    <tr>\n",
       "      <th>2</th>\n",
       "      <td>ttm</td>\n",
       "      <td>1701000</td>\n",
       "      <td>1083000</td>\n",
       "      <td>1170000</td>\n",
       "      <td>2110000</td>\n",
       "      <td>751000</td>\n",
       "      <td>2230000</td>\n",
       "      <td>1898000</td>\n",
       "      <td>411000</td>\n",
       "      <td>251000</td>\n",
       "      <td>950000</td>\n",
       "    </tr>\n",
       "    <tr>\n",
       "      <th>3</th>\n",
       "      <td>12/31/2020</td>\n",
       "      <td>1413000</td>\n",
       "      <td>626000</td>\n",
       "      <td>1613000</td>\n",
       "      <td>2853000</td>\n",
       "      <td>586000</td>\n",
       "      <td>2230000</td>\n",
       "      <td>0</td>\n",
       "      <td>411000</td>\n",
       "      <td>57000</td>\n",
       "      <td>827000</td>\n",
       "    </tr>\n",
       "    <tr>\n",
       "      <th>4</th>\n",
       "      <td>12/31/2019</td>\n",
       "      <td>1624000.0</td>\n",
       "      <td>1111000.0</td>\n",
       "      <td>649000.0</td>\n",
       "      <td>429000.0</td>\n",
       "      <td>781000.0</td>\n",
       "      <td>0.0</td>\n",
       "      <td>641000.0</td>\n",
       "      <td>679000.0</td>\n",
       "      <td>420000.0</td>\n",
       "      <td>843000.0</td>\n",
       "    </tr>\n",
       "    <tr>\n",
       "      <th>5</th>\n",
       "      <td>12/31/2018</td>\n",
       "      <td>1628000.0</td>\n",
       "      <td>2048000.0</td>\n",
       "      <td>555000.0</td>\n",
       "      <td>568000.0</td>\n",
       "      <td>846000.0</td>\n",
       "      <td>0.0</td>\n",
       "      <td>255000.0</td>\n",
       "      <td>0.0</td>\n",
       "      <td>499000.0</td>\n",
       "      <td>782000.0</td>\n",
       "    </tr>\n",
       "    <tr>\n",
       "      <th>6</th>\n",
       "      <td>12/31/2017</td>\n",
       "      <td>1468000.0</td>\n",
       "      <td>1252000.0</td>\n",
       "      <td>456000.0</td>\n",
       "      <td>1596000.0</td>\n",
       "      <td>698000.0</td>\n",
       "      <td>0.0</td>\n",
       "      <td>796000.0</td>\n",
       "      <td>17000.0</td>\n",
       "      <td>383000.0</td>\n",
       "      <td>770000.0</td>\n",
       "    </tr>\n",
       "  </tbody>\n",
       "</table>\n",
       "</div>"
      ],
      "text/plain": [
       "   Unnamed: 0                    0                    1                    2  \\\n",
       "1   Breakdown  Operating Cash Flow  Investing Cash Flow  Financing Cash Flow   \n",
       "2         ttm              1701000              1083000              1170000   \n",
       "3  12/31/2020              1413000               626000              1613000   \n",
       "4  12/31/2019            1624000.0            1111000.0             649000.0   \n",
       "5  12/31/2018            1628000.0            2048000.0             555000.0   \n",
       "6  12/31/2017            1468000.0            1252000.0             456000.0   \n",
       "\n",
       "                   3                    4                          5  \\\n",
       "1  End Cash Position  Capital Expenditure  Issuance of Capital Stock   \n",
       "2            2110000               751000                    2230000   \n",
       "3            2853000               586000                    2230000   \n",
       "4           429000.0             781000.0                        0.0   \n",
       "5           568000.0             846000.0                        0.0   \n",
       "6          1596000.0             698000.0                        0.0   \n",
       "\n",
       "                  6                  7                            8  \\\n",
       "1  Issuance of Debt  Repayment of Debt  Repurchase of Capital Stock   \n",
       "2           1898000             411000                       251000   \n",
       "3                 0             411000                        57000   \n",
       "4          641000.0           679000.0                     420000.0   \n",
       "5          255000.0                0.0                     499000.0   \n",
       "6          796000.0            17000.0                     383000.0   \n",
       "\n",
       "                9  \n",
       "1  Free Cash Flow  \n",
       "2          950000  \n",
       "3          827000  \n",
       "4        843000.0  \n",
       "5        782000.0  \n",
       "6        770000.0  "
      ]
     },
     "execution_count": 12,
     "metadata": {},
     "output_type": "execute_result"
    }
   ],
   "source": [
    "inc_df\n",
    "bs_df\n",
    "cf_df"
   ]
  },
  {
   "cell_type": "markdown",
   "metadata": {},
   "source": [
    "#### Export Dataframes"
   ]
  },
  {
   "cell_type": "code",
   "execution_count": 13,
   "metadata": {},
   "outputs": [],
   "source": [
    "inc_df.to_csv('01. APTV Income Statement.csv')\n",
    "bs_df.to_csv('02. APTV Balance Sheet.csv')\n",
    "cf_df.to_csv('03. APTV Cash Flow Statement.csv')"
   ]
  },
  {
   "cell_type": "code",
   "execution_count": null,
   "metadata": {},
   "outputs": [],
   "source": []
  }
 ],
 "metadata": {
  "kernelspec": {
   "display_name": "Python 3",
   "language": "python",
   "name": "python3"
  },
  "language_info": {
   "codemirror_mode": {
    "name": "ipython",
    "version": 3
   },
   "file_extension": ".py",
   "mimetype": "text/x-python",
   "name": "python",
   "nbconvert_exporter": "python",
   "pygments_lexer": "ipython3",
   "version": "3.8.5"
  }
 },
 "nbformat": 4,
 "nbformat_minor": 4
}
