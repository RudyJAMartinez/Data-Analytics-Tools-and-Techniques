{
 "cells": [
  {
   "cell_type": "code",
   "execution_count": 2,
   "metadata": {},
   "outputs": [],
   "source": [
    "import pandas as pd\n",
    "import csv\n",
    "import os"
   ]
  },
  {
   "cell_type": "markdown",
   "metadata": {},
   "source": [
    "#### Create DataFrames and Transpose"
   ]
  },
  {
   "cell_type": "code",
   "execution_count": 3,
   "metadata": {},
   "outputs": [],
   "source": [
    "inc_df = pd.read_csv(\"01. TSLA Income Statement.csv\")\n",
    "inc_df = inc_df.T"
   ]
  },
  {
   "cell_type": "code",
   "execution_count": 4,
   "metadata": {},
   "outputs": [],
   "source": [
    "bs_df = pd.read_csv(\"02. TSLA Balance Sheet.csv\")\n",
    "bs_df = bs_df.T"
   ]
  },
  {
   "cell_type": "code",
   "execution_count": 5,
   "metadata": {},
   "outputs": [],
   "source": [
    "cf_df = pd.read_csv(\"03. TSLA Cash Flow Statement.csv\")\n",
    "cf_df = cf_df.T"
   ]
  },
  {
   "cell_type": "markdown",
   "metadata": {},
   "source": [
    "#### Clean Dataframes"
   ]
  },
  {
   "cell_type": "code",
   "execution_count": 10,
   "metadata": {},
   "outputs": [],
   "source": [
    "inc_df = inc_df.iloc[1:]\n",
    "bs_df = bs_df.iloc[1:]\n",
    "cf_df = cf_df.iloc[1:]"
   ]
  },
  {
   "cell_type": "code",
   "execution_count": 11,
   "metadata": {},
   "outputs": [
    {
     "data": {
      "text/html": [
       "<div>\n",
       "<style scoped>\n",
       "    .dataframe tbody tr th:only-of-type {\n",
       "        vertical-align: middle;\n",
       "    }\n",
       "\n",
       "    .dataframe tbody tr th {\n",
       "        vertical-align: top;\n",
       "    }\n",
       "\n",
       "    .dataframe thead th {\n",
       "        text-align: right;\n",
       "    }\n",
       "</style>\n",
       "<table border=\"1\" class=\"dataframe\">\n",
       "  <thead>\n",
       "    <tr style=\"text-align: right;\">\n",
       "      <th></th>\n",
       "      <th>0</th>\n",
       "      <th>1</th>\n",
       "      <th>2</th>\n",
       "      <th>3</th>\n",
       "      <th>4</th>\n",
       "      <th>5</th>\n",
       "      <th>6</th>\n",
       "      <th>7</th>\n",
       "      <th>8</th>\n",
       "      <th>9</th>\n",
       "      <th>10</th>\n",
       "    </tr>\n",
       "  </thead>\n",
       "  <tbody>\n",
       "    <tr>\n",
       "      <th>Breakdown</th>\n",
       "      <td>Operating Cash Flow</td>\n",
       "      <td>Investing Cash Flow</td>\n",
       "      <td>Financing Cash Flow</td>\n",
       "      <td>End Cash Position</td>\n",
       "      <td>Income Tax Paid Supplemental Data</td>\n",
       "      <td>Interest Paid Supplemental Data</td>\n",
       "      <td>Capital Expenditure</td>\n",
       "      <td>Issuance of Capital Stock</td>\n",
       "      <td>Issuance of Debt</td>\n",
       "      <td>Repayment of Debt</td>\n",
       "      <td>Free Cash Flow</td>\n",
       "    </tr>\n",
       "    <tr>\n",
       "      <th>ttm</th>\n",
       "      <td>5943000</td>\n",
       "      <td>3132000</td>\n",
       "      <td>9973000</td>\n",
       "      <td>19901000</td>\n",
       "      <td>115000</td>\n",
       "      <td>444000</td>\n",
       "      <td>3242000</td>\n",
       "      <td>12269000</td>\n",
       "      <td>9713000</td>\n",
       "      <td>12201000</td>\n",
       "      <td>2701000</td>\n",
       "    </tr>\n",
       "    <tr>\n",
       "      <th>12/31/2020</th>\n",
       "      <td>5943000</td>\n",
       "      <td>3132000</td>\n",
       "      <td>9973000</td>\n",
       "      <td>19901000</td>\n",
       "      <td>115000</td>\n",
       "      <td>444000</td>\n",
       "      <td>3242000</td>\n",
       "      <td>12269000</td>\n",
       "      <td>9713000</td>\n",
       "      <td>12201000</td>\n",
       "      <td>2701000</td>\n",
       "    </tr>\n",
       "    <tr>\n",
       "      <th>12/31/2019</th>\n",
       "      <td>2405000</td>\n",
       "      <td>1436000</td>\n",
       "      <td>1529000</td>\n",
       "      <td>6783000</td>\n",
       "      <td>54000</td>\n",
       "      <td>455000</td>\n",
       "      <td>1437000</td>\n",
       "      <td>848000</td>\n",
       "      <td>10669000</td>\n",
       "      <td>9871000</td>\n",
       "      <td>968000</td>\n",
       "    </tr>\n",
       "    <tr>\n",
       "      <th>12/31/2018</th>\n",
       "      <td>2097802</td>\n",
       "      <td>2337428</td>\n",
       "      <td>573755</td>\n",
       "      <td>4276388</td>\n",
       "      <td>35409</td>\n",
       "      <td>380836</td>\n",
       "      <td>2319516</td>\n",
       "      <td>0</td>\n",
       "      <td>6176173</td>\n",
       "      <td>6087029</td>\n",
       "      <td>221714</td>\n",
       "    </tr>\n",
       "    <tr>\n",
       "      <th>12/31/2017</th>\n",
       "      <td>60654</td>\n",
       "      <td>4418967</td>\n",
       "      <td>4414864</td>\n",
       "      <td>3367914</td>\n",
       "      <td>65695</td>\n",
       "      <td>182571</td>\n",
       "      <td>4081354</td>\n",
       "      <td>400175</td>\n",
       "      <td>7649376</td>\n",
       "      <td>4263788</td>\n",
       "      <td>4142008</td>\n",
       "    </tr>\n",
       "  </tbody>\n",
       "</table>\n",
       "</div>"
      ],
      "text/plain": [
       "                             0                    1                    2   \\\n",
       "Breakdown   Operating Cash Flow  Investing Cash Flow  Financing Cash Flow   \n",
       "ttm                     5943000              3132000              9973000   \n",
       "12/31/2020              5943000              3132000              9973000   \n",
       "12/31/2019              2405000              1436000              1529000   \n",
       "12/31/2018              2097802              2337428               573755   \n",
       "12/31/2017                60654              4418967              4414864   \n",
       "\n",
       "                           3                                  4   \\\n",
       "Breakdown   End Cash Position  Income Tax Paid Supplemental Data   \n",
       "ttm                  19901000                             115000   \n",
       "12/31/2020           19901000                             115000   \n",
       "12/31/2019            6783000                              54000   \n",
       "12/31/2018            4276388                              35409   \n",
       "12/31/2017            3367914                              65695   \n",
       "\n",
       "                                         5                    6   \\\n",
       "Breakdown   Interest Paid Supplemental Data  Capital Expenditure   \n",
       "ttm                                  444000              3242000   \n",
       "12/31/2020                           444000              3242000   \n",
       "12/31/2019                           455000              1437000   \n",
       "12/31/2018                           380836              2319516   \n",
       "12/31/2017                           182571              4081354   \n",
       "\n",
       "                                   7                 8                  9   \\\n",
       "Breakdown   Issuance of Capital Stock  Issuance of Debt  Repayment of Debt   \n",
       "ttm                          12269000           9713000           12201000   \n",
       "12/31/2020                   12269000           9713000           12201000   \n",
       "12/31/2019                     848000          10669000            9871000   \n",
       "12/31/2018                          0           6176173            6087029   \n",
       "12/31/2017                     400175           7649376            4263788   \n",
       "\n",
       "                        10  \n",
       "Breakdown   Free Cash Flow  \n",
       "ttm                2701000  \n",
       "12/31/2020         2701000  \n",
       "12/31/2019          968000  \n",
       "12/31/2018          221714  \n",
       "12/31/2017         4142008  "
      ]
     },
     "execution_count": 11,
     "metadata": {},
     "output_type": "execute_result"
    }
   ],
   "source": [
    "inc_df\n",
    "bs_df\n",
    "cf_df"
   ]
  },
  {
   "cell_type": "markdown",
   "metadata": {},
   "source": [
    "#### Export Dataframes"
   ]
  },
  {
   "cell_type": "code",
   "execution_count": 12,
   "metadata": {},
   "outputs": [],
   "source": [
    "inc_df.to_csv('01. TSLA Income Statement.csv')\n",
    "bs_df.to_csv('02. TSLA Balance Sheet.csv')\n",
    "cf_df.to_csv('03. TSLA Cash Flow Statement.csv')"
   ]
  },
  {
   "cell_type": "code",
   "execution_count": null,
   "metadata": {},
   "outputs": [],
   "source": []
  }
 ],
 "metadata": {
  "kernelspec": {
   "display_name": "Python 3",
   "language": "python",
   "name": "python3"
  },
  "language_info": {
   "codemirror_mode": {
    "name": "ipython",
    "version": 3
   },
   "file_extension": ".py",
   "mimetype": "text/x-python",
   "name": "python",
   "nbconvert_exporter": "python",
   "pygments_lexer": "ipython3",
   "version": "3.8.5"
  }
 },
 "nbformat": 4,
 "nbformat_minor": 4
}
