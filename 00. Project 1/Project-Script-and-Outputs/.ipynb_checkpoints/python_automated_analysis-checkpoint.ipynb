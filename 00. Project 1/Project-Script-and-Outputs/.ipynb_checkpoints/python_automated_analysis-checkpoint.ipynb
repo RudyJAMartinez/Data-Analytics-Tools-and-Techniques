{
 "cells": [
  {
   "cell_type": "markdown",
   "metadata": {},
   "source": [
    "### **Name:** Python Automated Financial Analysis\n",
    "### **University:** University of Texas at San Antonio\n",
    "### **Class:** DA6223 - Data Tools & Techniques\n",
    "### **Author:** Rudy Martinez\n",
    "### **Last Updated:** February 4, 2021"
   ]
  },
  {
   "cell_type": "markdown",
   "metadata": {},
   "source": [
    "<br>"
   ]
  },
  {
   "cell_type": "markdown",
   "metadata": {},
   "source": [
    "### **Project Steps**\n",
    "#### **1.** Scrape S&P 500 companies from Wikipedia and create a CSV file with the scraped company information\n",
    "#### **2.** Create a dataframe from the CSV and randomly select 1 security (ticker symbol)\n",
    "#### **3.** Scrape the Yahoo Finance site for key statistics, financial statements and stock price history for the selected security \n",
    "#### **4.** Create a multi-layered stock screen to determine company's financial strength (fundamental analysis via Piotroski F-Score)\n",
    "#### **5.** Scrape Yahoo News Articles for langauge associated with \"positive\" sentiment for the security\n",
    "#### **6.** Can financial strength and positive sentiment predict stock price?"
   ]
  },
  {
   "cell_type": "markdown",
   "metadata": {},
   "source": [
    "<br>"
   ]
  },
  {
   "cell_type": "markdown",
   "metadata": {},
   "source": [
    "#### **Python Packages and Modules**"
   ]
  },
  {
   "cell_type": "code",
   "execution_count": 85,
   "metadata": {},
   "outputs": [],
   "source": [
    "import random\n",
    "from bs4 import BeautifulSoup\n",
    "import requests\n",
    "import pandas as pd"
   ]
  },
  {
   "cell_type": "markdown",
   "metadata": {},
   "source": [
    "<br>"
   ]
  },
  {
   "cell_type": "markdown",
   "metadata": {},
   "source": [
    "#### **1. Scrape S&P 500 companies from Wikipedia and create a CSV file with the scraped company information**"
   ]
  },
  {
   "cell_type": "code",
   "execution_count": 86,
   "metadata": {},
   "outputs": [],
   "source": [
    "#Acquires Wikipedia page content for S&P500 companies\n",
    "wiki_url = 'https://en.wikipedia.org/wiki/List_of_S%26P_500_companies'\n",
    "response_1 = requests.get(wiki_url)\n",
    "company_page_content = BeautifulSoup(response_1.text, 'html.parser')\n",
    "\n",
    "\n",
    "#Stores the table with company information into the company_table variable\n",
    "table_id = \"constituents\"\n",
    "company_table = company_page_content.find('table', attrs={'id': table_id})\n",
    "\n",
    "\n",
    "#Creates a dataframe with company information and writes to csv\n",
    "df = pd.read_html(str(company_table))\n",
    "df[0].to_csv('00. S&P500 Company Information.csv')"
   ]
  },
  {
   "cell_type": "markdown",
   "metadata": {},
   "source": [
    "<br>"
   ]
  },
  {
   "cell_type": "markdown",
   "metadata": {},
   "source": [
    "#### **2. Create a dataframe from the CSV and randomly select 1 security (ticker symbol)**"
   ]
  },
  {
   "cell_type": "code",
   "execution_count": 87,
   "metadata": {},
   "outputs": [
    {
     "data": {
      "text/plain": [
       "['RCL']"
      ]
     },
     "execution_count": 87,
     "metadata": {},
     "output_type": "execute_result"
    }
   ],
   "source": [
    "#Reads the CSV that was generated\n",
    "csv_df = pd.read_csv('00. S&P500 Company Information.csv')\n",
    "\n",
    "\n",
    "#Creates a list of companies\n",
    "company_list = csv_df['Symbol'].to_list()\n",
    "\n",
    "\n",
    "#Randomly select 1 company from company_list\n",
    "random_company = random.sample(company_list,1)\n",
    "\n",
    "\n",
    "#Establishes the randomly selected stock variable as a string\n",
    "stock = ''.join(random_company)\n",
    "\n",
    "random_company"
   ]
  },
  {
   "cell_type": "markdown",
   "metadata": {},
   "source": [
    "<br>"
   ]
  },
  {
   "cell_type": "markdown",
   "metadata": {},
   "source": [
    "#### **3. Scrape the Yahoo Finance site for financial statements for the selected security**"
   ]
  },
  {
   "cell_type": "code",
   "execution_count": 88,
   "metadata": {},
   "outputs": [],
   "source": [
    "#Funtion that makes all values numerical - will be needed in the below financial statement scraping\n",
    "def conv_to_num(column):\n",
    "    first_col = [val.replace(',','') for val in column]\n",
    "    second_col = [val.replace('-','') for val in first_col]\n",
    "    final_col = pd.to_numeric(second_col)\n",
    "    \n",
    "    return final_col"
   ]
  },
  {
   "cell_type": "code",
   "execution_count": 89,
   "metadata": {},
   "outputs": [],
   "source": [
    "#Establishes the randomly selected stock variable as a string\n",
    "stock = ''.join(random_company)\n",
    "\n",
    "\n",
    "#Establishes URLs for Financial Statements and places them in a list\n",
    "url_inc_statement = 'https://finance.yahoo.com/quote/{}/financials?p={}'\n",
    "url_bs_statement = 'https://finance.yahoo.com/quote/{}/balance-sheet?p={}'\n",
    "url_cf_statement = 'https://finance.yahoo.com/quote/{}/cash-flow?p={}'\n",
    "url_list = [url_inc_statement, url_bs_statement, url_cf_statement]\n",
    "\n",
    "statement_count = 0\n",
    "\n",
    "for statement in url_list:\n",
    "    #Acquires company financial statement page content \n",
    "    response_2 = requests.get(statement.format(stock, stock))\n",
    "    fin_content = BeautifulSoup(response_2.text, 'html.parser')\n",
    "    fin_data = fin_content.find_all('div', class_= 'D(tbr)')\n",
    "\n",
    "    headers = []\n",
    "    temp_list = []\n",
    "    label_list = []\n",
    "    final = []\n",
    "    index = 0\n",
    "\n",
    "    #Creates Headers for statement\n",
    "    for item in fin_data[0].find_all('div', class_= 'D(ib)'):\n",
    "        headers.append(item.text)\n",
    "\n",
    "\n",
    "    #Statement Contents\n",
    "    while index <= len(fin_data) - 1:\n",
    "        temp = fin_data[index].find_all('div', class_= 'D(tbc)')\n",
    "        for line in temp:\n",
    "            temp_list.append(line.text)\n",
    "        final.append(temp_list)\n",
    "        temp_list = []\n",
    "        index += 1\n",
    "    \n",
    "    \n",
    "    #Places statement contents into a dataframe\n",
    "    df = pd.DataFrame(final[1:])\n",
    "    df.columns = headers\n",
    "    \n",
    "    \n",
    "    #Makes all values numerical and removes na \n",
    "    for column in headers[1:]:\n",
    "        df[column] = conv_to_num(df[column])\n",
    "    \n",
    "    final_df = df.fillna('-')\n",
    "    \n",
    "    \n",
    "    #Used as a naming input for the csv export below\n",
    "    statement_count += 1\n",
    "    \n",
    "    \n",
    "    #Writes to csv for each financial statement\n",
    "    if statement_count == 1:\n",
    "        final_df.to_csv(f'01. {stock} Income Statement.csv')\n",
    "    elif statement_count == 2:\n",
    "        final_df.to_csv(f'02. {stock} Balance Sheet.csv')\n",
    "    else:\n",
    "        final_df.to_csv(f'03. {stock} Cash Flow Statement.csv')"
   ]
  },
  {
   "cell_type": "markdown",
   "metadata": {},
   "source": [
    "<br>"
   ]
  },
  {
   "cell_type": "markdown",
   "metadata": {},
   "source": [
    "#### **3. Scrape the Yahoo Finance site for stock price history for the selected security**"
   ]
  },
  {
   "cell_type": "code",
   "execution_count": 90,
   "metadata": {},
   "outputs": [],
   "source": [
    "#Acquires stock price history for the selected stock\n",
    "stock_url = 'https://query1.finance.yahoo.com/v7/finance/download/{}?'\n",
    "\n",
    "\n",
    "#Parameters for 5 yeares of stock history\n",
    "params = {\n",
    "    'range': '5y',\n",
    "    'interval': '1d',\n",
    "    'events':'history'\n",
    "}\n",
    "\n",
    "\n",
    "#Acquire the data from the page given the above params\n",
    "response_3 = requests.get(stock_url.format(stock), params=params)\n",
    "\n",
    "\n",
    "#Puts the stock price data into a list\n",
    "price_file = StringIO(response_3.text)\n",
    "reader = csv.reader(price_file)\n",
    "data = list(reader)\n",
    "\n",
    "\n",
    "#Creates a stock price data frame and write to CSV\n",
    "price_df = pd.DataFrame(data)\n",
    "price_df.to_csv(f'04. {stock} Stock Price - 5 Year Historical.csv')"
   ]
  },
  {
   "cell_type": "markdown",
   "metadata": {},
   "source": [
    "<br>"
   ]
  },
  {
   "cell_type": "markdown",
   "metadata": {},
   "source": [
    "#### **3. Scrape the Yahoo Finance site for key statistics for the selected security**"
   ]
  },
  {
   "cell_type": "code",
   "execution_count": 91,
   "metadata": {},
   "outputs": [],
   "source": [
    "#Established url for Key Statistics\n",
    "stats = pd.read_html(f'https://finance.yahoo.com/quote/{stock}/key-statistics?p={stock}')\n",
    "\n",
    "\n",
    "#Create dataframe with statistics\n",
    "key_stats = stats[0]\n",
    "stats_df = pd.DataFrame(key_stats)\n",
    "\n",
    "#Write the dataframe to csv\n",
    "stats_df.to_csv(f'05. {stock} Statistics.csv')"
   ]
  },
  {
   "cell_type": "markdown",
   "metadata": {},
   "source": [
    "<br>"
   ]
  },
  {
   "cell_type": "markdown",
   "metadata": {},
   "source": [
    "#### **4. Create a multi-layered stock screen to determine company's financial strength (fundamental analysis via Piotroski F-score)**"
   ]
  },
  {
   "cell_type": "code",
   "execution_count": 135,
   "metadata": {},
   "outputs": [
    {
     "data": {
      "text/html": [
       "<div>\n",
       "<style scoped>\n",
       "    .dataframe tbody tr th:only-of-type {\n",
       "        vertical-align: middle;\n",
       "    }\n",
       "\n",
       "    .dataframe tbody tr th {\n",
       "        vertical-align: top;\n",
       "    }\n",
       "\n",
       "    .dataframe thead th {\n",
       "        text-align: right;\n",
       "    }\n",
       "</style>\n",
       "<table border=\"1\" class=\"dataframe\">\n",
       "  <thead>\n",
       "    <tr style=\"text-align: right;\">\n",
       "      <th></th>\n",
       "      <th>Breakdown</th>\n",
       "      <th>ttm</th>\n",
       "      <th>12/31/2019</th>\n",
       "      <th>12/31/2018</th>\n",
       "      <th>12/31/2017</th>\n",
       "    </tr>\n",
       "  </thead>\n",
       "  <tbody>\n",
       "    <tr>\n",
       "      <th>8</th>\n",
       "      <td>Net Income Common Stockholders</td>\n",
       "      <td>4157391.0</td>\n",
       "      <td>1878887.0</td>\n",
       "      <td>1811042.0</td>\n",
       "      <td>1625133.0</td>\n",
       "    </tr>\n",
       "  </tbody>\n",
       "</table>\n",
       "</div>"
      ],
      "text/plain": [
       "                        Breakdown        ttm 12/31/2019 12/31/2018 12/31/2017\n",
       "8  Net Income Common Stockholders  4157391.0  1878887.0  1811042.0  1625133.0"
      ]
     },
     "execution_count": 135,
     "metadata": {},
     "output_type": "execute_result"
    }
   ],
   "source": [
    "#Reads in the financial statement CSVs that were generated as well as the years\n",
    "income_statement = pd.read_csv(f'01. {stock} Income Statement.csv')\n",
    "balance_sheet = pd.read_csv(f'02. {stock} Balance Sheet.csv')\n",
    "cashflow_statement = pd.read_csv(f'03. {stock} Cash Flow Statement.csv')\n",
    "years = list(income_statement.columns[3:6])\n",
    "\n",
    "#Remove first column from dataframes\n",
    "income_statement.drop(income_statement.columns[0], axis = 1, inplace = True)\n",
    "balance_sheet.drop(balance_sheet.columns[0], axis = 1, inplace = True)\n",
    "cashflow_statement.drop(cashflow_statement.columns[0], axis = 1, inplace = True)\n",
    "\n",
    "#Initialize scoring trackers\n",
    "profitability_score = 0\n",
    "leverage_liquidity_score = 0\n",
    "operating_efficiency_score = 0\n",
    "\n",
    "\n",
    "#Profitability\n",
    "# def profitability():\n",
    "net_inc_cy = income_statement[(income_statement['Breakdown'] == \"Net Income Common Stockholders\")]\n",
    "net_inc_cy\n",
    "\n",
    "# #Leverage and Liquidity\n",
    "# def leverage():\n",
    "\n",
    "    \n",
    "# #Operating Effeciency\n",
    "# def operating_efficiency():"
   ]
  }
 ],
 "metadata": {
  "kernelspec": {
   "display_name": "Python 3",
   "language": "python",
   "name": "python3"
  },
  "language_info": {
   "codemirror_mode": {
    "name": "ipython",
    "version": 3
   },
   "file_extension": ".py",
   "mimetype": "text/x-python",
   "name": "python",
   "nbconvert_exporter": "python",
   "pygments_lexer": "ipython3",
   "version": "3.8.5"
  }
 },
 "nbformat": 4,
 "nbformat_minor": 4
}
